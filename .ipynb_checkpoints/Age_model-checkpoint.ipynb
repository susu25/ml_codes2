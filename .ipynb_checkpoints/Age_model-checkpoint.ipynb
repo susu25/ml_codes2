{
 "cells": [
  {
   "cell_type": "code",
   "execution_count": 1,
   "id": "designing-bulgarian",
   "metadata": {},
   "outputs": [
    {
     "name": "stdout",
     "output_type": "stream",
     "text": [
      ".\n",
      ".\\.ipynb_checkpoints\n",
      ".\\my_experiment\n",
      ".\\my_experiment\\run_14h_tanx\n",
      ".\\my_experiment\\run_14h_xcosx\n",
      ".\\my_experiment\\run_14h_xsinx\n"
     ]
    }
   ],
   "source": [
    "import os\n",
    "for dirname, _, filenames in os.walk('.'):\n",
    "    print(dirname)"
   ]
  },
  {
   "cell_type": "code",
   "execution_count": 2,
   "id": "satisfied-constant",
   "metadata": {},
   "outputs": [],
   "source": [
    "images_path = 'E:\\Data\\CACD\\data\\CACD2000'"
   ]
  },
  {
   "cell_type": "code",
   "execution_count": 3,
   "id": "instrumental-machinery",
   "metadata": {},
   "outputs": [],
   "source": [
    "image_datas = os.listdir(images_path)"
   ]
  },
  {
   "cell_type": "code",
   "execution_count": 4,
   "id": "restricted-cameroon",
   "metadata": {},
   "outputs": [
    {
     "name": "stdout",
     "output_type": "stream",
     "text": [
      "152236\n"
     ]
    }
   ],
   "source": [
    "image_count = len(image_datas)\n",
    "print(image_count)"
   ]
  },
  {
   "cell_type": "code",
   "execution_count": 5,
   "id": "casual-theme",
   "metadata": {},
   "outputs": [],
   "source": [
    "import warnings\n",
    "warnings.filterwarnings(\"ignore\")"
   ]
  },
  {
   "cell_type": "code",
   "execution_count": 6,
   "id": "finished-advocate",
   "metadata": {},
   "outputs": [
    {
     "name": "stdout",
     "output_type": "stream",
     "text": [
      "(250, 250, 3)\n"
     ]
    }
   ],
   "source": [
    "import cv2\n",
    "img = cv2.imread(os.path.join(images_path, image_datas[0]))\n",
    "print(img.shape)"
   ]
  },
  {
   "cell_type": "code",
   "execution_count": 7,
   "id": "worse-julian",
   "metadata": {},
   "outputs": [],
   "source": [
    "import torch\n",
    "import torch.nn as nn\n",
    "import torch.optim as optim\n",
    "from torch.optim import lr_scheduler\n",
    "import torchvision\n",
    "from torchvision import datasets, models, transforms\n",
    "from torch.utils.data import random_split, Dataset\n",
    "import time\n",
    "import copy\n",
    "import numpy as np\n",
    "%matplotlib inline\n",
    "import matplotlib.pyplot as plt"
   ]
  },
  {
   "cell_type": "code",
   "execution_count": 8,
   "id": "funded-landing",
   "metadata": {},
   "outputs": [],
   "source": [
    "# torch.manual_seed(0)\n",
    "# dataset = image_datas\n",
    "# train_count = int(image_count * 0.9)\n",
    "# test_count = 20\n",
    "# val_count = image_count - train_count - test_count\n",
    "# train_dataset, val_dataset, test_dataset = random_split(\n",
    "#     dataset=dataset,\n",
    "#     lengths=[train_count, val_count, test_count]\n",
    "# )       \n",
    "# print(len(train_dataset))\n",
    "# print(len(val_dataset))\n",
    "# print(len(test_dataset))\n",
    "age_file_dic = {}\n",
    "for file_name in image_datas:\n",
    "    mark = file_name.split('_')[0]\n",
    "    if mark in age_file_dic:\n",
    "        age_file_dic[mark].append(file_name)\n",
    "    else:\n",
    "        age_file_dic[mark] = [file_name,]"
   ]
  },
  {
   "cell_type": "code",
   "execution_count": 13,
   "id": "monetary-virus",
   "metadata": {},
   "outputs": [],
   "source": [
    "import random\n",
    "train_dataset, val_dataset, test_dataset = [], [], []\n",
    "for age in age_file_dic.keys():\n",
    "    age_files = age_file_dic[age]\n",
    "    random.shuffle(age_files)\n",
    "    train_dataset.extend(age_files[:-22])\n",
    "    val_dataset.extend(age_files[-22:-2])\n",
    "    test_dataset.append(age_files[-2:])\n",
    "    "
   ]
  },
  {
   "cell_type": "code",
   "execution_count": 14,
   "id": "similar-privilege",
   "metadata": {},
   "outputs": [
    {
     "name": "stdout",
     "output_type": "stream",
     "text": [
      "151356\n",
      "800\n",
      "40\n"
     ]
    }
   ],
   "source": [
    "print(len(train_dataset))\n",
    "print(len(val_dataset))\n",
    "print(len(test_dataset))"
   ]
  },
  {
   "cell_type": "code",
   "execution_count": 15,
   "id": "returning-insertion",
   "metadata": {},
   "outputs": [],
   "source": [
    "data_transforms = {\n",
    "    'train': transforms.Compose([\n",
    "        transforms.RandomHorizontalFlip(), #随机水平翻转\n",
    "        transforms.Resize(224),\n",
    "        transforms.ToTensor(),\n",
    "        transforms.Normalize([0.485, 0.456, 0.406], [0.229, 0.224, 0.225])\n",
    "    ]),\n",
    "    'val': transforms.Compose([\n",
    "        transforms.Resize(224),\n",
    "        transforms.ToTensor(),\n",
    "        transforms.Normalize([0.485, 0.456, 0.406], [0.229, 0.224, 0.225])\n",
    "    ]),\n",
    "}"
   ]
  },
  {
   "cell_type": "code",
   "execution_count": 16,
   "id": "divine-handy",
   "metadata": {},
   "outputs": [],
   "source": [
    "from PIL import Image\n",
    "\n",
    "class AgeGenderDataset(Dataset):\n",
    "    def __init__(self, root_dir, mark):\n",
    "        self.path_dir = root_dir\n",
    "        self.transform = data_transforms[mark]\n",
    "        self.img_files = train_dataset\n",
    "        if mark == 'val':\n",
    "            self.img_files = val_dataset\n",
    "        # age: 21~~60\n",
    "        self.ages = []\n",
    "        self.images = []\n",
    "        for file_name in self.img_files:\n",
    "            age_gender_group = file_name.split(\"_\")\n",
    "            age_ = age_gender_group[0]\n",
    "            self.ages.append(int(age_))\n",
    "            self.images.append(os.path.join(self.path_dir, file_name))\n",
    "\n",
    "    def __len__(self):\n",
    "        return len(self.ages)\n",
    "\n",
    "    def __getitem__(self, index):\n",
    "        image_path = self.images[index]\n",
    "        age = self.ages[index]\n",
    "        img = Image.open(image_path)\n",
    "        transformed_img = self.transform(img)\n",
    "        sample = {'image': transformed_img, 'lable': age}\n",
    "        return sample"
   ]
  },
  {
   "cell_type": "code",
   "execution_count": 17,
   "id": "distinct-insurance",
   "metadata": {},
   "outputs": [],
   "source": [
    "image_datasets = {x: AgeGenderDataset(images_path, x)\n",
    "                  for x in ['train', 'val']}\n",
    "dataloaders = {x: torch.utils.data.DataLoader(image_datasets[x], batch_size=4,\n",
    "                                             shuffle=True)\n",
    "              for x in ['train', 'val']}\n",
    "dataset_sizes = {x: len(image_datasets[x]) for x in ['train', 'val']}"
   ]
  },
  {
   "cell_type": "code",
   "execution_count": 18,
   "id": "visible-grill",
   "metadata": {},
   "outputs": [
    {
     "data": {
      "text/plain": [
       "{'train': 151356, 'val': 800}"
      ]
     },
     "execution_count": 18,
     "metadata": {},
     "output_type": "execute_result"
    }
   ],
   "source": [
    "dataset_sizes"
   ]
  },
  {
   "cell_type": "code",
   "execution_count": 19,
   "id": "straight-lemon",
   "metadata": {},
   "outputs": [],
   "source": [
    "device = torch.device(\"cuda:0\" if torch.cuda.is_available() else \"cpu\")"
   ]
  },
  {
   "cell_type": "code",
   "execution_count": 20,
   "id": "respiratory-transaction",
   "metadata": {},
   "outputs": [
    {
     "data": {
      "text/plain": [
       "device(type='cpu')"
      ]
     },
     "execution_count": 20,
     "metadata": {},
     "output_type": "execute_result"
    }
   ],
   "source": [
    "device"
   ]
  },
  {
   "cell_type": "code",
   "execution_count": 21,
   "id": "cloudy-milton",
   "metadata": {},
   "outputs": [],
   "source": [
    "def imshow(inp, title=None):\n",
    "    \"\"\"Imshow for Tensor.\"\"\"\n",
    "    inp = inp.numpy().transpose((1, 2, 0))\n",
    "    mean = np.array([0.485, 0.456, 0.406])\n",
    "    std = np.array([0.229, 0.224, 0.225])\n",
    "    inp = std * inp + mean\n",
    "    inp = np.clip(inp, 0, 1)\n",
    "    plt.imshow(inp)\n",
    "    if title is not None:\n",
    "        plt.title(title)\n",
    "    plt.pause(0.001)"
   ]
  },
  {
   "cell_type": "code",
   "execution_count": 22,
   "id": "furnished-examination",
   "metadata": {},
   "outputs": [
    {
     "data": {
      "image/png": "[encoded data removed]",
      "text/plain": [
       "<Figure size 432x288 with 1 Axes>"
      ]
     },
     "metadata": {
      "needs_background": "light"
     },
     "output_type": "display_data"
    }
   ],
   "source": [
    "bath_data = next(iter(dataloaders['train']))\n",
    "inputs, classes = bath_data['image'], bath_data['lable']\n",
    "out = torchvision.utils.make_grid(inputs)\n",
    "\n",
    "imshow(out, title=classes.tolist())"
   ]
  },
  {
   "cell_type": "code",
   "execution_count": 17,
   "id": "knowing-reference",
   "metadata": {},
   "outputs": [],
   "source": [
    "# model_file = './age_params.pkl'\n",
    "# pretrained_dict = torch.load(model_file, map_location='cpu')"
   ]
  },
  {
   "cell_type": "code",
   "execution_count": 18,
   "id": "proprietary-therapy",
   "metadata": {},
   "outputs": [
    {
     "data": {
      "text/plain": [
       "torch.Size([2000])"
      ]
     },
     "execution_count": 18,
     "metadata": {},
     "output_type": "execute_result"
    }
   ],
   "source": [
    "# pretrained_dict['fc.bias'].shape"
   ]
  },
  {
   "cell_type": "code",
   "execution_count": 32,
   "id": "speaking-upset",
   "metadata": {},
   "outputs": [],
   "source": [
    "class ResNet(nn.Module):\n",
    "    \"\"\"\n",
    "    block: A sub module\n",
    "    \"\"\"\n",
    "    def __init__(self, layers, num_classes=1000, model_path=\"age.pkl\"):\n",
    "        super(ResNet, self).__init__()\n",
    "        self.inplanes = 64\n",
    "        self.modelPath = model_path\n",
    "        self.conv1 = nn.Conv2d(3, 64, kernel_size = 7, stride = 2, padding = 3,\n",
    "                               bias = False)\n",
    "        self.bn1 = nn.BatchNorm2d(64)\n",
    "        self.relu = nn.ReLU(inplace = True)\n",
    "        self.maxpool = nn.MaxPool2d(kernel_size = 3, stride = 2, padding = 1)\n",
    "        self.stack1 = self.make_stack(64, layers[0])\n",
    "        self.stack2 = self.make_stack(128, layers[1], stride=2)\n",
    "        self.stack3 = self.make_stack(256, layers[2], stride=2)\n",
    "        self.stack4 = self.make_stack(512, layers[3], stride=2)\n",
    "        self.avgpool = nn.AvgPool2d(7, stride = 1)\n",
    "        self.fc = nn.Linear(512 * Bottleneck.expansion, num_classes)\n",
    "        # initialize parameters\n",
    "        self.init_param()\n",
    "\n",
    "    def init_param(self):\n",
    "        # The following is initialization\n",
    "        for m in self.modules():\n",
    "            if isinstance(m, nn.Conv2d):\n",
    "                n = m.kernel_size[0] * m.kernel_size[1] * m.out_channels\n",
    "                m.weight.data.normal_(0, math.sqrt(2./n))\n",
    "            elif isinstance(m, nn.BatchNorm2d):\n",
    "                m.weight.data.fill_(1)\n",
    "                m.bias.data.zero_()\n",
    "            elif isinstance(m, nn.Linear):\n",
    "                n = m.weight.shape[0] * m.weight.shape[1]\n",
    "                m.weight.data.normal_(0, math.sqrt(2./n))\n",
    "                m.bias.data.zero_()\n",
    "\n",
    "    def make_stack(self, planes, blocks, stride = 1):\n",
    "        downsample = None\n",
    "        layers = []\n",
    "            \n",
    "        if stride != 1 or self.inplanes != planes * Bottleneck.expansion:\n",
    "            downsample = nn.Sequential(\n",
    "                nn.Conv2d(self.inplanes, planes * Bottleneck.expansion,\n",
    "                          kernel_size=1, stride=stride, bias=False),\n",
    "                nn.BatchNorm2d(planes * Bottleneck.expansion),\n",
    "                )\n",
    "\n",
    "        layers.append(Bottleneck(self.inplanes, planes, stride, downsample))\n",
    "        self.inplanes = planes * Bottleneck.expansion\n",
    "        for i in range(1, blocks):\n",
    "            layers.append(Bottleneck(self.inplanes, planes))\n",
    "\n",
    "        return nn.Sequential(*layers)\n",
    "\n",
    "    def forward(self, x):\n",
    "        x = self.conv1(x)\n",
    "        x = self.bn1(x)\n",
    "        x = self.relu(x)\n",
    "        x = self.maxpool(x)\n",
    "\n",
    "        x = self.stack1(x)\n",
    "        x = self.stack2(x)\n",
    "        x = self.stack3(x)\n",
    "        x = self.stack4(x)\n",
    "\n",
    "        x = self.avgpool(x)\n",
    "        x = x.view(x.size(0), -1)\n",
    "        x = self.fc(x)\n",
    "\n",
    "        return x"
   ]
  },
  {
   "cell_type": "code",
   "execution_count": 33,
   "id": "appropriate-emergency",
   "metadata": {},
   "outputs": [],
   "source": [
    "class Bottleneck(nn.Module):\n",
    "    expansion = 4\n",
    "\n",
    "    def __init__(self, inplanes, planes, stride=1, downsample=None):\n",
    "        super(Bottleneck, self).__init__()\n",
    "        self.conv1 = nn.Conv2d(inplanes, planes, kernel_size=1, bias=False)\n",
    "        self.bn1 = nn.BatchNorm2d(planes)\n",
    "        self.conv2 = nn.Conv2d(planes, planes, kernel_size=3, stride=stride, padding=1, bias=False)\n",
    "        self.bn2 = nn.BatchNorm2d(planes)\n",
    "        self.conv3 = nn.Conv2d(planes, planes * 4, kernel_size=1, bias=False)\n",
    "        self.bn3 = nn.BatchNorm2d(planes * 4)\n",
    "        self.relu = nn.ReLU(inplace=True)\n",
    "        self.downsample = downsample\n",
    "        self.stride = stride\n",
    "\n",
    "    def forward(self, x):\n",
    "        residual = x\n",
    "\n",
    "        out = self.conv1(x)\n",
    "        out = self.bn1(out)\n",
    "        out = self.relu(out)\n",
    "\n",
    "        out = self.conv2(out)\n",
    "        out = self.bn2(out)\n",
    "        out = self.relu(out)\n",
    "\n",
    "        out = self.conv3(out)\n",
    "        out = self.bn3(out)\n",
    "\n",
    "        if self.downsample is not None:\n",
    "            residual = self.downsample(x)\n",
    "\n",
    "        out += residual\n",
    "        out = self.relu(out)\n",
    "\n",
    "        return out"
   ]
  },
  {
   "cell_type": "code",
   "execution_count": 34,
   "id": "supposed-morris",
   "metadata": {},
   "outputs": [],
   "source": [
    "import math\n",
    "\n",
    "model = ResNet([3, 4, 6, 3], 40)"
   ]
  },
  {
   "cell_type": "code",
   "execution_count": 22,
   "id": "interested-insulin",
   "metadata": {},
   "outputs": [
    {
     "data": {
      "text/plain": [
       "<All keys matched successfully>"
      ]
     },
     "execution_count": 22,
     "metadata": {},
     "output_type": "execute_result"
    }
   ],
   "source": [
    "# model.load_state_dict(pretrained_dict)"
   ]
  },
  {
   "cell_type": "code",
   "execution_count": 23,
   "id": "marine-lithuania",
   "metadata": {},
   "outputs": [],
   "source": [
    "# num_ftrs = model.fc.in_features\n",
    "# model.fc = nn.Linear(num_ftrs, 40)"
   ]
  },
  {
   "cell_type": "code",
   "execution_count": 23,
   "id": "prescribed-citizen",
   "metadata": {},
   "outputs": [],
   "source": [
    "def train_model(model, criterion, optimizer, scheduler, num_epochs=25):\n",
    "    since = time.time()\n",
    "\n",
    "    best_model_wts = copy.deepcopy(model.state_dict())\n",
    "    best_acc = 0.0\n",
    "\n",
    "    for epoch in range(num_epochs):\n",
    "        print('Epoch {}/{}'.format(epoch + 1, num_epochs))\n",
    "        print('-' * 10)\n",
    "\n",
    "        # 每个epoch都有一个训练和验证阶段\n",
    "        for phase in ['train', 'val']:\n",
    "            if phase == 'train':\n",
    "                scheduler.step()\n",
    "                model.train()  # Set model to training mode\n",
    "            else:\n",
    "                model.eval()   # Set model to evaluate mode\n",
    "\n",
    "            running_loss = 0.0\n",
    "            running_corrects = 0\n",
    "\n",
    "            # 迭代数据.\n",
    "            for i_batch, sample_batched in enumerate(dataloaders[phase]):\n",
    "                inputs, labels = sample_batched['image'], sample_batched['lable'] - 21\n",
    "                inputs = inputs.to(device)\n",
    "                labels = labels.to(device)\n",
    "\n",
    "                # 零参数梯度\n",
    "                optimizer.zero_grad()\n",
    "\n",
    "                # 前向\n",
    "                # track history if only in train\n",
    "                with torch.set_grad_enabled(phase == 'train'):\n",
    "                    outputs = model(inputs)\n",
    "                    _, preds = torch.max(outputs, 1)\n",
    "                    loss = criterion(outputs, labels)\n",
    "\n",
    "                    # 后向+仅在训练阶段进行优化\n",
    "                    if phase == 'train':\n",
    "                        loss.backward()\n",
    "                        optimizer.step()\n",
    "\n",
    "                # 统计\n",
    "                running_loss += loss.item() * inputs.size(0)\n",
    "                running_corrects += torch.sum(preds == labels.data)\n",
    "\n",
    "            epoch_loss = running_loss / dataset_sizes[phase]\n",
    "            epoch_acc = running_corrects.double() / dataset_sizes[phase]\n",
    "\n",
    "            print('{} Loss: {:.4f} Acc: {:.4f}'.format(\n",
    "                phase, epoch_loss, epoch_acc))\n",
    "\n",
    "            # 深度复制mo\n",
    "            if phase == 'val' and epoch_acc > best_acc:\n",
    "                best_acc = epoch_acc\n",
    "                best_model_wts = copy.deepcopy(model.state_dict())\n",
    "\n",
    "        print()\n",
    "\n",
    "    time_elapsed = time.time() - since\n",
    "    print('Training complete in {:.0f}m {:.0f}s'.format(\n",
    "        time_elapsed // 60, time_elapsed % 60))\n",
    "    print('Best val Acc: {:4f}'.format(best_acc))\n",
    "\n",
    "    # 加载最佳模型权重\n",
    "    model.load_state_dict(best_model_wts)\n",
    "    return model"
   ]
  },
  {
   "cell_type": "code",
   "execution_count": 24,
   "id": "sporting-cartoon",
   "metadata": {},
   "outputs": [],
   "source": [
    "def visualize_model(model, num_batch=4):\n",
    "    was_training = model.training\n",
    "    model.eval()\n",
    "    images_so_far = 0\n",
    "\n",
    "    with torch.no_grad():\n",
    "        for i, sample_batched in enumerate(dataloaders['val']):\n",
    "            inputs, labels = sample_batched['image'], sample_batched['lable']\n",
    "            inputs = torch.stack(inputs, dim=1)\n",
    "            labels = torch.stack(labels, dim=1)\n",
    "            images_so_far += 1\n",
    "            inputs = inputs.to(device)\n",
    "            labels = labels.to(device)\n",
    "\n",
    "            outputs = model(inputs)\n",
    "            _, preds = torch.max(outputs, 1)\n",
    "            \n",
    "            out = torchvision.utils.make_grid(inputs.cpu())\n",
    "            imshow(out)\n",
    "            print('真实值: ', \" \".join('%s' % labels[j] for j in range(4)))\n",
    "            print('预测值: ', \" \".join('%s' % preds[j] for j in range(4)))\n",
    "\n",
    "            if images_so_far == num_batch:\n",
    "                model.train(mode=was_training)\n",
    "                return\n",
    "        model.train(mode=was_training)"
   ]
  },
  {
   "cell_type": "code",
   "execution_count": 25,
   "id": "scenic-validity",
   "metadata": {},
   "outputs": [],
   "source": [
    "model_ft1 = models.resnet18(pretrained=True)\n",
    "num_ftrs = model_ft1.fc.in_features\n",
    "model_ft1.fc = nn.Linear(num_ftrs, 40)\n",
    "model_ft2 = models.vgg16(pretrained=True)\n",
    "num_ftrs = model_ft2.classifier[6].in_features\n",
    "model_ft2.classifier[6] = nn.Linear(num_ftrs, 40)\n",
    "# model_ft1 = model.to(device)\n",
    "model_ft1 = model_ft1.to(device)\n",
    "model_ft2 = model_ft2.to(device)\n",
    "\n",
    "criterion = nn.CrossEntropyLoss()\n",
    "\n",
    "optimizer_ft1 = optim.SGD(model_ft1.parameters(), lr=0.001, momentum=0.9)\n",
    "exp_lr_scheduler1 = lr_scheduler.StepLR(optimizer_ft1, step_size=7, gamma=0.1)\n",
    "\n",
    "optimizer_ft2 = optim.SGD(model_ft2.parameters(), lr=0.01, momentum=0.9)\n",
    "exp_lr_scheduler2 = lr_scheduler.StepLR(optimizer_ft2, step_size=7, gamma=0.1)"
   ]
  },
  {
   "cell_type": "code",
   "execution_count": 29,
   "id": "tender-image",
   "metadata": {},
   "outputs": [
    {
     "name": "stdout",
     "output_type": "stream",
     "text": [
      "----------------------------------------------------------------\n",
      "        Layer (type)               Output Shape         Param #\n",
      "================================================================\n",
      "            Conv2d-1          [2, 64, 112, 112]           9,408\n",
      "       BatchNorm2d-2          [2, 64, 112, 112]             128\n",
      "              ReLU-3          [2, 64, 112, 112]               0\n",
      "         MaxPool2d-4            [2, 64, 56, 56]               0\n",
      "            Conv2d-5            [2, 64, 56, 56]          36,864\n",
      "       BatchNorm2d-6            [2, 64, 56, 56]             128\n",
      "              ReLU-7            [2, 64, 56, 56]               0\n",
      "            Conv2d-8            [2, 64, 56, 56]          36,864\n",
      "       BatchNorm2d-9            [2, 64, 56, 56]             128\n",
      "             ReLU-10            [2, 64, 56, 56]               0\n",
      "       BasicBlock-11            [2, 64, 56, 56]               0\n",
      "           Conv2d-12            [2, 64, 56, 56]          36,864\n",
      "      BatchNorm2d-13            [2, 64, 56, 56]             128\n",
      "             ReLU-14            [2, 64, 56, 56]               0\n",
      "           Conv2d-15            [2, 64, 56, 56]          36,864\n",
      "      BatchNorm2d-16            [2, 64, 56, 56]             128\n",
      "             ReLU-17            [2, 64, 56, 56]               0\n",
      "       BasicBlock-18            [2, 64, 56, 56]               0\n",
      "           Conv2d-19           [2, 128, 28, 28]          73,728\n",
      "      BatchNorm2d-20           [2, 128, 28, 28]             256\n",
      "             ReLU-21           [2, 128, 28, 28]               0\n",
      "           Conv2d-22           [2, 128, 28, 28]         147,456\n",
      "      BatchNorm2d-23           [2, 128, 28, 28]             256\n",
      "           Conv2d-24           [2, 128, 28, 28]           8,192\n",
      "      BatchNorm2d-25           [2, 128, 28, 28]             256\n",
      "             ReLU-26           [2, 128, 28, 28]               0\n",
      "       BasicBlock-27           [2, 128, 28, 28]               0\n",
      "           Conv2d-28           [2, 128, 28, 28]         147,456\n",
      "      BatchNorm2d-29           [2, 128, 28, 28]             256\n",
      "             ReLU-30           [2, 128, 28, 28]               0\n",
      "           Conv2d-31           [2, 128, 28, 28]         147,456\n",
      "      BatchNorm2d-32           [2, 128, 28, 28]             256\n",
      "             ReLU-33           [2, 128, 28, 28]               0\n",
      "       BasicBlock-34           [2, 128, 28, 28]               0\n",
      "           Conv2d-35           [2, 256, 14, 14]         294,912\n",
      "      BatchNorm2d-36           [2, 256, 14, 14]             512\n",
      "             ReLU-37           [2, 256, 14, 14]               0\n",
      "           Conv2d-38           [2, 256, 14, 14]         589,824\n",
      "      BatchNorm2d-39           [2, 256, 14, 14]             512\n",
      "           Conv2d-40           [2, 256, 14, 14]          32,768\n",
      "      BatchNorm2d-41           [2, 256, 14, 14]             512\n",
      "             ReLU-42           [2, 256, 14, 14]               0\n",
      "       BasicBlock-43           [2, 256, 14, 14]               0\n",
      "           Conv2d-44           [2, 256, 14, 14]         589,824\n",
      "      BatchNorm2d-45           [2, 256, 14, 14]             512\n",
      "             ReLU-46           [2, 256, 14, 14]               0\n",
      "           Conv2d-47           [2, 256, 14, 14]         589,824\n",
      "      BatchNorm2d-48           [2, 256, 14, 14]             512\n",
      "             ReLU-49           [2, 256, 14, 14]               0\n",
      "       BasicBlock-50           [2, 256, 14, 14]               0\n",
      "           Conv2d-51             [2, 512, 7, 7]       1,179,648\n",
      "      BatchNorm2d-52             [2, 512, 7, 7]           1,024\n",
      "             ReLU-53             [2, 512, 7, 7]               0\n",
      "           Conv2d-54             [2, 512, 7, 7]       2,359,296\n",
      "      BatchNorm2d-55             [2, 512, 7, 7]           1,024\n",
      "           Conv2d-56             [2, 512, 7, 7]         131,072\n",
      "      BatchNorm2d-57             [2, 512, 7, 7]           1,024\n",
      "             ReLU-58             [2, 512, 7, 7]               0\n",
      "       BasicBlock-59             [2, 512, 7, 7]               0\n",
      "           Conv2d-60             [2, 512, 7, 7]       2,359,296\n",
      "      BatchNorm2d-61             [2, 512, 7, 7]           1,024\n",
      "             ReLU-62             [2, 512, 7, 7]               0\n",
      "           Conv2d-63             [2, 512, 7, 7]       2,359,296\n",
      "      BatchNorm2d-64             [2, 512, 7, 7]           1,024\n",
      "             ReLU-65             [2, 512, 7, 7]               0\n",
      "       BasicBlock-66             [2, 512, 7, 7]               0\n",
      "AdaptiveAvgPool2d-67             [2, 512, 1, 1]               0\n",
      "           Linear-68                    [2, 40]          20,520\n",
      "================================================================\n",
      "Total params: 11,197,032\n",
      "Trainable params: 11,197,032\n",
      "Non-trainable params: 0\n",
      "----------------------------------------------------------------\n",
      "Input size (MB): 1.15\n",
      "Forward/backward pass size (MB): 125.57\n",
      "Params size (MB): 42.71\n",
      "Estimated Total Size (MB): 169.43\n",
      "----------------------------------------------------------------\n"
     ]
    }
   ],
   "source": [
    "from torchsummary import summary\n",
    "\n",
    "summary(model_ft1, input_size=[(3, 224, 224)], batch_size=2, device=\"cpu\")"
   ]
  },
  {
   "cell_type": "code",
   "execution_count": 30,
   "id": "tight-handling",
   "metadata": {},
   "outputs": [
    {
     "name": "stdout",
     "output_type": "stream",
     "text": [
      "----------------------------------------------------------------\n",
      "        Layer (type)               Output Shape         Param #\n",
      "================================================================\n",
      "            Conv2d-1          [2, 64, 224, 224]           1,792\n",
      "              ReLU-2          [2, 64, 224, 224]               0\n",
      "            Conv2d-3          [2, 64, 224, 224]          36,928\n",
      "              ReLU-4          [2, 64, 224, 224]               0\n",
      "         MaxPool2d-5          [2, 64, 112, 112]               0\n",
      "            Conv2d-6         [2, 128, 112, 112]          73,856\n",
      "              ReLU-7         [2, 128, 112, 112]               0\n",
      "            Conv2d-8         [2, 128, 112, 112]         147,584\n",
      "              ReLU-9         [2, 128, 112, 112]               0\n",
      "        MaxPool2d-10           [2, 128, 56, 56]               0\n",
      "           Conv2d-11           [2, 256, 56, 56]         295,168\n",
      "             ReLU-12           [2, 256, 56, 56]               0\n",
      "           Conv2d-13           [2, 256, 56, 56]         590,080\n",
      "             ReLU-14           [2, 256, 56, 56]               0\n",
      "           Conv2d-15           [2, 256, 56, 56]         590,080\n",
      "             ReLU-16           [2, 256, 56, 56]               0\n",
      "        MaxPool2d-17           [2, 256, 28, 28]               0\n",
      "           Conv2d-18           [2, 512, 28, 28]       1,180,160\n",
      "             ReLU-19           [2, 512, 28, 28]               0\n",
      "           Conv2d-20           [2, 512, 28, 28]       2,359,808\n",
      "             ReLU-21           [2, 512, 28, 28]               0\n",
      "           Conv2d-22           [2, 512, 28, 28]       2,359,808\n",
      "             ReLU-23           [2, 512, 28, 28]               0\n",
      "        MaxPool2d-24           [2, 512, 14, 14]               0\n",
      "           Conv2d-25           [2, 512, 14, 14]       2,359,808\n",
      "             ReLU-26           [2, 512, 14, 14]               0\n",
      "           Conv2d-27           [2, 512, 14, 14]       2,359,808\n",
      "             ReLU-28           [2, 512, 14, 14]               0\n",
      "           Conv2d-29           [2, 512, 14, 14]       2,359,808\n",
      "             ReLU-30           [2, 512, 14, 14]               0\n",
      "        MaxPool2d-31             [2, 512, 7, 7]               0\n",
      "AdaptiveAvgPool2d-32             [2, 512, 7, 7]               0\n",
      "           Linear-33                  [2, 4096]     102,764,544\n",
      "             ReLU-34                  [2, 4096]               0\n",
      "          Dropout-35                  [2, 4096]               0\n",
      "           Linear-36                  [2, 4096]      16,781,312\n",
      "             ReLU-37                  [2, 4096]               0\n",
      "          Dropout-38                  [2, 4096]               0\n",
      "           Linear-39                    [2, 40]         163,880\n",
      "================================================================\n",
      "Total params: 134,424,424\n",
      "Trainable params: 134,424,424\n",
      "Non-trainable params: 0\n",
      "----------------------------------------------------------------\n",
      "Input size (MB): 1.15\n",
      "Forward/backward pass size (MB): 437.55\n",
      "Params size (MB): 512.79\n",
      "Estimated Total Size (MB): 951.48\n",
      "----------------------------------------------------------------\n"
     ]
    }
   ],
   "source": [
    "summary(model_ft2, input_size=[(3, 224, 224)], batch_size=2, device=\"cpu\")"
   ]
  },
  {
   "cell_type": "code",
   "execution_count": 26,
   "id": "future-bishop",
   "metadata": {},
   "outputs": [
    {
     "name": "stdout",
     "output_type": "stream",
     "text": [
      "Epoch 1/50\n",
      "----------\n",
      "train Loss: 3.4167 Acc: 0.0536\n",
      "val Loss: 3.3187 Acc: 0.0488\n",
      "\n",
      "Epoch 2/50\n",
      "----------\n",
      "train Loss: 3.2441 Acc: 0.0668\n",
      "val Loss: 3.2191 Acc: 0.0800\n",
      "\n",
      "Epoch 3/50\n",
      "----------\n",
      "train Loss: 3.1787 Acc: 0.0716\n",
      "val Loss: 3.1837 Acc: 0.0737\n",
      "\n",
      "Epoch 4/50\n",
      "----------\n",
      "train Loss: 3.1340 Acc: 0.0761\n",
      "val Loss: 3.1649 Acc: 0.0675\n",
      "\n",
      "Epoch 5/50\n",
      "----------\n",
      "train Loss: 3.0941 Acc: 0.0811\n",
      "val Loss: 3.2059 Acc: 0.0762\n",
      "\n",
      "Epoch 6/50\n",
      "----------\n",
      "train Loss: 3.0570 Acc: 0.0839\n",
      "val Loss: 3.2094 Acc: 0.0625\n",
      "\n",
      "Epoch 7/50\n",
      "----------\n",
      "train Loss: 2.8844 Acc: 0.1058\n",
      "val Loss: 3.1139 Acc: 0.0775\n",
      "\n",
      "Epoch 8/50\n",
      "----------\n",
      "train Loss: 2.8301 Acc: 0.1119\n",
      "val Loss: 3.1050 Acc: 0.0938\n",
      "\n",
      "Epoch 9/50\n",
      "----------\n",
      "train Loss: 2.7920 Acc: 0.1166\n",
      "val Loss: 3.1530 Acc: 0.0800\n",
      "\n",
      "Epoch 10/50\n",
      "----------\n",
      "train Loss: 2.7541 Acc: 0.1221\n",
      "val Loss: 3.1208 Acc: 0.1000\n",
      "\n",
      "Epoch 11/50\n",
      "----------\n",
      "train Loss: 2.7145 Acc: 0.1289\n",
      "val Loss: 3.1485 Acc: 0.0813\n",
      "\n",
      "Epoch 12/50\n",
      "----------\n",
      "train Loss: 2.6741 Acc: 0.1331\n",
      "val Loss: 3.1858 Acc: 0.0825\n",
      "\n",
      "Epoch 13/50\n",
      "----------\n",
      "train Loss: 2.6379 Acc: 0.1390\n",
      "val Loss: 3.2049 Acc: 0.0762\n",
      "\n",
      "Epoch 14/50\n",
      "----------\n",
      "train Loss: 2.5309 Acc: 0.1610\n",
      "val Loss: 3.3085 Acc: 0.0750\n",
      "\n",
      "Epoch 15/50\n",
      "----------\n",
      "train Loss: 2.5015 Acc: 0.1661\n",
      "val Loss: 3.2862 Acc: 0.0750\n",
      "\n",
      "Epoch 16/50\n",
      "----------\n",
      "train Loss: 2.4858 Acc: 0.1683\n",
      "val Loss: 3.3101 Acc: 0.0725\n",
      "\n",
      "Epoch 17/50\n",
      "----------\n"
     ]
    },
    {
     "ename": "KeyboardInterrupt",
     "evalue": "",
     "output_type": "error",
     "traceback": [
      "\u001b[1;31m---------------------------------------------------------------------------\u001b[0m",
      "\u001b[1;31mKeyboardInterrupt\u001b[0m                         Traceback (most recent call last)",
      "\u001b[1;32m<ipython-input-26-aefa8f9709eb>\u001b[0m in \u001b[0;36m<module>\u001b[1;34m\u001b[0m\n\u001b[0;32m      1\u001b[0m model_ft1 = train_model(model_ft1, criterion, optimizer_ft1, exp_lr_scheduler1,\n\u001b[1;32m----> 2\u001b[1;33m                        num_epochs=50)\n\u001b[0m",
      "\u001b[1;32m<ipython-input-23-5d0a67cf8f66>\u001b[0m in \u001b[0;36mtrain_model\u001b[1;34m(model, criterion, optimizer, scheduler, num_epochs)\u001b[0m\n\u001b[0;32m     38\u001b[0m                     \u001b[1;31m# 后向+仅在训练阶段进行优化\u001b[0m\u001b[1;33m\u001b[0m\u001b[1;33m\u001b[0m\u001b[0m\n\u001b[0;32m     39\u001b[0m                     \u001b[1;32mif\u001b[0m \u001b[0mphase\u001b[0m \u001b[1;33m==\u001b[0m \u001b[1;34m'train'\u001b[0m\u001b[1;33m:\u001b[0m\u001b[1;33m\u001b[0m\u001b[0m\n\u001b[1;32m---> 40\u001b[1;33m                         \u001b[0mloss\u001b[0m\u001b[1;33m.\u001b[0m\u001b[0mbackward\u001b[0m\u001b[1;33m(\u001b[0m\u001b[1;33m)\u001b[0m\u001b[1;33m\u001b[0m\u001b[0m\n\u001b[0m\u001b[0;32m     41\u001b[0m                         \u001b[0moptimizer\u001b[0m\u001b[1;33m.\u001b[0m\u001b[0mstep\u001b[0m\u001b[1;33m(\u001b[0m\u001b[1;33m)\u001b[0m\u001b[1;33m\u001b[0m\u001b[0m\n\u001b[0;32m     42\u001b[0m \u001b[1;33m\u001b[0m\u001b[0m\n",
      "\u001b[1;32md:\\pyenv\\ml3\\lib\\site-packages\\torch\\tensor.py\u001b[0m in \u001b[0;36mbackward\u001b[1;34m(self, gradient, retain_graph, create_graph)\u001b[0m\n\u001b[0;32m    196\u001b[0m                 \u001b[0mproducts\u001b[0m\u001b[1;33m.\u001b[0m \u001b[0mDefaults\u001b[0m \u001b[0mto\u001b[0m\u001b[0;31m \u001b[0m\u001b[0;31m`\u001b[0m\u001b[0;31m`\u001b[0m\u001b[1;32mFalse\u001b[0m\u001b[0;31m`\u001b[0m\u001b[0;31m`\u001b[0m\u001b[1;33m.\u001b[0m\u001b[1;33m\u001b[0m\u001b[0m\n\u001b[0;32m    197\u001b[0m         \"\"\"\n\u001b[1;32m--> 198\u001b[1;33m         \u001b[0mtorch\u001b[0m\u001b[1;33m.\u001b[0m\u001b[0mautograd\u001b[0m\u001b[1;33m.\u001b[0m\u001b[0mbackward\u001b[0m\u001b[1;33m(\u001b[0m\u001b[0mself\u001b[0m\u001b[1;33m,\u001b[0m \u001b[0mgradient\u001b[0m\u001b[1;33m,\u001b[0m \u001b[0mretain_graph\u001b[0m\u001b[1;33m,\u001b[0m \u001b[0mcreate_graph\u001b[0m\u001b[1;33m)\u001b[0m\u001b[1;33m\u001b[0m\u001b[0m\n\u001b[0m\u001b[0;32m    199\u001b[0m \u001b[1;33m\u001b[0m\u001b[0m\n\u001b[0;32m    200\u001b[0m     \u001b[1;32mdef\u001b[0m \u001b[0mregister_hook\u001b[0m\u001b[1;33m(\u001b[0m\u001b[0mself\u001b[0m\u001b[1;33m,\u001b[0m \u001b[0mhook\u001b[0m\u001b[1;33m)\u001b[0m\u001b[1;33m:\u001b[0m\u001b[1;33m\u001b[0m\u001b[0m\n",
      "\u001b[1;32md:\\pyenv\\ml3\\lib\\site-packages\\torch\\autograd\\__init__.py\u001b[0m in \u001b[0;36mbackward\u001b[1;34m(tensors, grad_tensors, retain_graph, create_graph, grad_variables)\u001b[0m\n\u001b[0;32m     98\u001b[0m     Variable._execution_engine.run_backward(\n\u001b[0;32m     99\u001b[0m         \u001b[0mtensors\u001b[0m\u001b[1;33m,\u001b[0m \u001b[0mgrad_tensors\u001b[0m\u001b[1;33m,\u001b[0m \u001b[0mretain_graph\u001b[0m\u001b[1;33m,\u001b[0m \u001b[0mcreate_graph\u001b[0m\u001b[1;33m,\u001b[0m\u001b[1;33m\u001b[0m\u001b[0m\n\u001b[1;32m--> 100\u001b[1;33m         allow_unreachable=True)  # allow_unreachable flag\n\u001b[0m\u001b[0;32m    101\u001b[0m \u001b[1;33m\u001b[0m\u001b[0m\n\u001b[0;32m    102\u001b[0m \u001b[1;33m\u001b[0m\u001b[0m\n",
      "\u001b[1;31mKeyboardInterrupt\u001b[0m: "
     ]
    }
   ],
   "source": [
    "model_ft1 = train_model(model_ft1, criterion, optimizer_ft1, exp_lr_scheduler1,\n",
    "                       num_epochs=50)"
   ]
  },
  {
   "cell_type": "code",
   "execution_count": 35,
   "id": "sonic-characterization",
   "metadata": {},
   "outputs": [
    {
     "name": "stdout",
     "output_type": "stream",
     "text": [
      "Epoch 1/25\n",
      "----------\n",
      "train Loss: nan Acc: 0.0230\n",
      "val Loss: nan Acc: 0.0250\n",
      "\n",
      "Epoch 2/25\n",
      "----------\n",
      "train Loss: nan Acc: 0.0250\n",
      "val Loss: nan Acc: 0.0250\n",
      "\n",
      "Epoch 3/25\n",
      "----------\n",
      "train Loss: nan Acc: 0.0250\n",
      "val Loss: nan Acc: 0.0250\n",
      "\n",
      "Epoch 4/25\n",
      "----------\n",
      "train Loss: nan Acc: 0.0250\n",
      "val Loss: nan Acc: 0.0250\n",
      "\n",
      "Epoch 5/25\n",
      "----------\n",
      "train Loss: nan Acc: 0.0250\n",
      "val Loss: nan Acc: 0.0250\n",
      "\n",
      "Epoch 6/25\n",
      "----------\n",
      "train Loss: nan Acc: 0.0250\n",
      "val Loss: nan Acc: 0.0250\n",
      "\n",
      "Epoch 7/25\n",
      "----------\n",
      "train Loss: nan Acc: 0.0250\n",
      "val Loss: nan Acc: 0.0250\n",
      "\n",
      "Epoch 8/25\n",
      "----------\n",
      "train Loss: nan Acc: 0.0250\n",
      "val Loss: nan Acc: 0.0250\n",
      "\n",
      "Epoch 9/25\n",
      "----------\n",
      "train Loss: nan Acc: 0.0250\n",
      "val Loss: nan Acc: 0.0250\n",
      "\n",
      "Epoch 10/25\n",
      "----------\n",
      "train Loss: nan Acc: 0.0250\n",
      "val Loss: nan Acc: 0.0250\n",
      "\n",
      "Epoch 11/25\n",
      "----------\n",
      "train Loss: nan Acc: 0.0250\n",
      "val Loss: nan Acc: 0.0250\n",
      "\n",
      "Epoch 12/25\n",
      "----------\n",
      "train Loss: nan Acc: 0.0250\n",
      "val Loss: nan Acc: 0.0250\n",
      "\n",
      "Epoch 13/25\n",
      "----------\n",
      "train Loss: nan Acc: 0.0250\n",
      "val Loss: nan Acc: 0.0250\n",
      "\n",
      "Epoch 14/25\n",
      "----------\n",
      "train Loss: nan Acc: 0.0250\n",
      "val Loss: nan Acc: 0.0250\n",
      "\n",
      "Epoch 15/25\n",
      "----------\n",
      "train Loss: nan Acc: 0.0250\n",
      "val Loss: nan Acc: 0.0250\n",
      "\n",
      "Epoch 16/25\n",
      "----------\n",
      "train Loss: nan Acc: 0.0250\n",
      "val Loss: nan Acc: 0.0250\n",
      "\n",
      "Epoch 17/25\n",
      "----------\n",
      "train Loss: nan Acc: 0.0250\n",
      "val Loss: nan Acc: 0.0250\n",
      "\n",
      "Epoch 18/25\n",
      "----------\n",
      "train Loss: nan Acc: 0.0250\n",
      "val Loss: nan Acc: 0.0250\n",
      "\n",
      "Epoch 19/25\n",
      "----------\n",
      "train Loss: nan Acc: 0.0250\n",
      "val Loss: nan Acc: 0.0250\n",
      "\n",
      "Epoch 20/25\n",
      "----------\n",
      "train Loss: nan Acc: 0.0250\n",
      "val Loss: nan Acc: 0.0250\n",
      "\n",
      "Epoch 21/25\n",
      "----------\n",
      "train Loss: nan Acc: 0.0250\n",
      "val Loss: nan Acc: 0.0250\n",
      "\n",
      "Epoch 22/25\n",
      "----------\n",
      "train Loss: nan Acc: 0.0250\n",
      "val Loss: nan Acc: 0.0250\n",
      "\n",
      "Epoch 23/25\n",
      "----------\n",
      "train Loss: nan Acc: 0.0250\n",
      "val Loss: nan Acc: 0.0250\n",
      "\n",
      "Epoch 24/25\n",
      "----------\n",
      "train Loss: nan Acc: 0.0250\n",
      "val Loss: nan Acc: 0.0250\n",
      "\n",
      "Epoch 25/25\n",
      "----------\n",
      "train Loss: nan Acc: 0.0250\n",
      "val Loss: nan Acc: 0.0250\n",
      "\n",
      "Training complete in 479m 30s\n",
      "Best val Acc: 0.025000\n"
     ]
    }
   ],
   "source": [
    "model_ft2 = train_model(model_ft2, criterion, optimizer_ft2, exp_lr_scheduler2,\n",
    "                       num_epochs=25)"
   ]
  },
  {
   "cell_type": "code",
   "execution_count": null,
   "id": "numerous-shoot",
   "metadata": {},
   "outputs": [],
   "source": []
  }
 ],
 "metadata": {
  "kernelspec": {
   "display_name": "Python 3",
   "language": "python",
   "name": "python3"
  },
  "language_info": {
   "codemirror_mode": {
    "name": "ipython",
    "version": 3
   },
   "file_extension": ".py",
   "mimetype": "text/x-python",
   "name": "python",
   "nbconvert_exporter": "python",
   "pygments_lexer": "ipython3",
   "version": "3.5.2"
  }
 },
 "nbformat": 4,
 "nbformat_minor": 5
}
