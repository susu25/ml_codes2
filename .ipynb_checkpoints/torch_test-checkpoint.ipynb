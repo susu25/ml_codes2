{
 "cells": [
  {
   "cell_type": "code",
   "execution_count": 1,
   "id": "desirable-stability",
   "metadata": {},
   "outputs": [
    {
     "name": "stdout",
     "output_type": "stream",
     "text": [
      "tensor([[9.2756e-39, 1.0837e-38, 1.0010e-38],\n",
      "        [4.6838e-39, 9.9184e-39, 9.0000e-39]])\n",
      "tensor([2., 3., 4., 5.])\n"
     ]
    }
   ],
   "source": [
    "import torch\n",
    "\n",
    "a = torch.FloatTensor(2,3)\n",
    "b = torch.FloatTensor([2,3,4,5])\n",
    "print(a)\n",
    "print(b)"
   ]
  },
  {
   "cell_type": "code",
   "execution_count": 2,
   "id": "sized-mailman",
   "metadata": {},
   "outputs": [
    {
     "name": "stdout",
     "output_type": "stream",
     "text": [
      "tensor([[0, 0, 6],\n",
      "        [0, 1, 0]], dtype=torch.int32)\n",
      "tensor([2, 3, 4, 5], dtype=torch.int32)\n"
     ]
    }
   ],
   "source": [
    "a = torch.IntTensor(2,3)\n",
    "b = torch.IntTensor([2,3,4,5])\n",
    "print(a)\n",
    "print(b)"
   ]
  },
  {
   "cell_type": "code",
   "execution_count": 3,
   "id": "stopped-student",
   "metadata": {},
   "outputs": [
    {
     "name": "stdout",
     "output_type": "stream",
     "text": [
      "tensor([[0.8935, 0.1263, 0.0883],\n",
      "        [0.4690, 0.2966, 0.2674]])\n"
     ]
    }
   ],
   "source": [
    "a = torch.rand(2,3)\n",
    "print(a)"
   ]
  },
  {
   "cell_type": "code",
   "execution_count": 4,
   "id": "female-caution",
   "metadata": {},
   "outputs": [
    {
     "name": "stdout",
     "output_type": "stream",
     "text": [
      "tensor([[-0.8430,  1.4647, -0.4701],\n",
      "        [-0.5655, -1.2158,  1.1409]])\n"
     ]
    }
   ],
   "source": [
    "a = torch.randn(2,3)\n",
    "print(a)"
   ]
  },
  {
   "cell_type": "code",
   "execution_count": 5,
   "id": "cheap-fluid",
   "metadata": {},
   "outputs": [
    {
     "name": "stdout",
     "output_type": "stream",
     "text": [
      "tensor([ 1.,  3.,  5.,  7.,  9., 11., 13., 15., 17., 19.])\n"
     ]
    },
    {
     "name": "stderr",
     "output_type": "stream",
     "text": [
      "d:\\pyenv\\ml3\\lib\\site-packages\\ipykernel_launcher.py:1: UserWarning: torch.range is deprecated in favor of torch.arange and will be removed in 0.5. Note that arange generates values in [start; end), not [start; end].\n",
      "  \"\"\"Entry point for launching an IPython kernel.\n"
     ]
    }
   ],
   "source": [
    "a = torch.range(1,20,2)\n",
    "print(a)"
   ]
  },
  {
   "cell_type": "code",
   "execution_count": 6,
   "id": "palestinian-hotel",
   "metadata": {},
   "outputs": [
    {
     "name": "stdout",
     "output_type": "stream",
     "text": [
      "tensor([[0., 0., 0.],\n",
      "        [0., 0., 0.]])\n"
     ]
    }
   ],
   "source": [
    "a = torch.zeros(2,3)\n",
    "print(a)"
   ]
  },
  {
   "cell_type": "code",
   "execution_count": 7,
   "id": "advanced-exclusive",
   "metadata": {},
   "outputs": [
    {
     "name": "stdout",
     "output_type": "stream",
     "text": [
      "tensor([[-0.6600, -0.0310, -0.4913],\n",
      "        [ 0.9120, -0.1431,  0.0030]]) \n",
      " tensor([[0.6600, 0.0310, 0.4913],\n",
      "        [0.9120, 0.1431, 0.0030]])\n"
     ]
    }
   ],
   "source": [
    "a = torch.randn(2,3)\n",
    "b = torch.abs(a)\n",
    "print(a,\"\\n\",b)"
   ]
  },
  {
   "cell_type": "code",
   "execution_count": 8,
   "id": "applicable-humidity",
   "metadata": {},
   "outputs": [
    {
     "name": "stdout",
     "output_type": "stream",
     "text": [
      "tensor([[0.0000, 0.0000, 0.0000],\n",
      "        [1.8240, 0.0000, 0.0059]])\n",
      "tensor([[2.6600, 2.0310, 2.4913],\n",
      "        [2.9120, 2.1431, 2.0030]])\n"
     ]
    }
   ],
   "source": [
    "c = torch.add(a,b)\n",
    "d = torch.add(b,2)\n",
    "print(c)\n",
    "print(d)"
   ]
  },
  {
   "cell_type": "code",
   "execution_count": 9,
   "id": "behind-repair",
   "metadata": {},
   "outputs": [
    {
     "name": "stdout",
     "output_type": "stream",
     "text": [
      "tensor([[-0.6600, -0.0310, -0.4913],\n",
      "        [ 0.9120, -0.1431,  0.0030]])\n",
      "tensor([[-0.1000, -0.0310, -0.1000],\n",
      "        [ 0.9000, -0.1000,  0.0030]])\n"
     ]
    }
   ],
   "source": [
    "b = torch.clamp(a, -0.1, 0.9)\n",
    "print(a)\n",
    "print(b)"
   ]
  },
  {
   "cell_type": "code",
   "execution_count": 10,
   "id": "assured-procedure",
   "metadata": {},
   "outputs": [
    {
     "name": "stdout",
     "output_type": "stream",
     "text": [
      "tensor([[6.5997, 1.0000, 4.9126],\n",
      "        [1.0133, 1.4309, 1.0000]])\n",
      "tensor([[-6.5997, -0.3098, -4.9126],\n",
      "        [ 9.1198, -1.4309,  0.0297]])\n"
     ]
    }
   ],
   "source": [
    "c = torch.div(a,b)\n",
    "d = torch.div(a,0.1)\n",
    "print(c)\n",
    "print(d)"
   ]
  },
  {
   "cell_type": "code",
   "execution_count": 11,
   "id": "afraid-capacity",
   "metadata": {},
   "outputs": [
    {
     "name": "stdout",
     "output_type": "stream",
     "text": [
      "tensor([[6.5997e-02, 9.5952e-04, 4.9126e-02],\n",
      "        [8.2078e-01, 1.4309e-02, 8.8319e-06]])\n",
      "tensor([[-6.5997, -0.3098, -4.9126],\n",
      "        [ 9.1198, -1.4309,  0.0297]])\n"
     ]
    }
   ],
   "source": [
    "c = torch.mul(a,b)\n",
    "d = torch.mul(a,10)\n",
    "print(c)\n",
    "print(d)"
   ]
  },
  {
   "cell_type": "code",
   "execution_count": 12,
   "id": "pursuant-tokyo",
   "metadata": {},
   "outputs": [
    {
     "name": "stdout",
     "output_type": "stream",
     "text": [
      "tensor([[4.3556e-01, 9.5952e-04, 2.4134e-01],\n",
      "        [8.3170e-01, 2.0474e-02, 8.8319e-06]])\n"
     ]
    }
   ],
   "source": [
    "c = torch.pow(a,2)\n",
    "print(c)"
   ]
  },
  {
   "cell_type": "code",
   "execution_count": 14,
   "id": "efficient-print",
   "metadata": {},
   "outputs": [
    {
     "name": "stdout",
     "output_type": "stream",
     "text": [
      "tensor([[ 0.3192, -0.6110],\n",
      "        [-1.7371,  0.3748]])\n"
     ]
    }
   ],
   "source": [
    "b = torch.randn(3,2)\n",
    "c = torch.mm(a,b)\n",
    "print(c)"
   ]
  },
  {
   "cell_type": "code",
   "execution_count": 15,
   "id": "municipal-caribbean",
   "metadata": {},
   "outputs": [
    {
     "name": "stdout",
     "output_type": "stream",
     "text": [
      "tensor([-1.6016,  0.1393])\n"
     ]
    }
   ],
   "source": [
    "b = torch.randn(3)\n",
    "c = torch.mv(a,b)\n",
    "print(c)"
   ]
  },
  {
   "cell_type": "code",
   "execution_count": 2,
   "id": "spread-absolute",
   "metadata": {},
   "outputs": [
    {
     "name": "stdout",
     "output_type": "stream",
     "text": [
      "Epoch:0, Losss:54269964.0000\n",
      "Epoch:1, Losss:117079456.0000\n",
      "Epoch:2, Losss:343475904.0000\n",
      "Epoch:3, Losss:458579776.0000\n",
      "Epoch:4, Losss:38813452.0000\n",
      "Epoch:5, Losss:9517504.0000\n",
      "Epoch:6, Losss:4303924.5000\n",
      "Epoch:7, Losss:2706888.0000\n",
      "Epoch:8, Losss:2093235.3750\n",
      "Epoch:9, Losss:1791425.7500\n",
      "Epoch:10, Losss:1601167.7500\n",
      "Epoch:11, Losss:1458113.0000\n",
      "Epoch:12, Losss:1339707.5000\n",
      "Epoch:13, Losss:1237459.5000\n",
      "Epoch:14, Losss:1147331.8750\n",
      "Epoch:15, Losss:1067014.6250\n",
      "Epoch:16, Losss:995011.0625\n",
      "Epoch:17, Losss:930381.3125\n",
      "Epoch:18, Losss:872108.5000\n",
      "Epoch:19, Losss:819349.2500\n"
     ]
    }
   ],
   "source": [
    "# 简单神经网络实现\n",
    "import torch\n",
    "\n",
    "batch_n = 100\n",
    "hidden_layer = 100\n",
    "input_data = 1000\n",
    "output_data = 10\n",
    "\n",
    "x = torch.randn(batch_n, input_data)\n",
    "y = torch.randn(batch_n, output_data)\n",
    "\n",
    "w1 = torch.randn(input_data, hidden_layer)\n",
    "w2 = torch.randn(hidden_layer, output_data)\n",
    "\n",
    "epoch_n = 20\n",
    "learning_rate = 1e-6\n",
    "\n",
    "for epoch in range(epoch_n):\n",
    "    h1 = x.mm(w1)\n",
    "    h1 = h1.clamp(min=0)\n",
    "    y_pred = h1.mm(w2)\n",
    "    \n",
    "    loss = (y_pred - y).pow(2).sum()\n",
    "    print(\"Epoch:{}, Losss:{:.4f}\".format(epoch, loss))\n",
    "    \n",
    "    grad_y_pred = 2*(y_pred - y)\n",
    "    grad_w2 = h1.t().mm(grad_y_pred)\n",
    "    \n",
    "    grad_h = grad_y_pred.clone()\n",
    "    grad_h = grad_h.mm(w2.t())\n",
    "    grad_h.clamp_(min=0)\n",
    "    grad_w1 = x.t().mm(grad_h)\n",
    "    \n",
    "    w1 -= learning_rate*grad_w1\n",
    "    w2 -= learning_rate*grad_w2\n",
    "    "
   ]
  },
  {
   "cell_type": "code",
   "execution_count": 14,
   "id": "angry-pressure",
   "metadata": {},
   "outputs": [
    {
     "name": "stdout",
     "output_type": "stream",
     "text": [
      "Epoch:0, Loss:50647364.0000\n",
      "Epoch:1, Loss:132342704.0000\n",
      "Epoch:2, Loss:539675712.0000\n",
      "Epoch:3, Loss:752148928.0000\n",
      "Epoch:4, Loss:6848063.0000\n",
      "Epoch:5, Loss:4980881.5000\n",
      "Epoch:6, Loss:3797918.7500\n",
      "Epoch:7, Loss:2997397.2500\n",
      "Epoch:8, Loss:2427927.5000\n",
      "Epoch:9, Loss:2007873.0000\n",
      "Epoch:10, Loss:1690388.5000\n",
      "Epoch:11, Loss:1445035.0000\n",
      "Epoch:12, Loss:1251823.1250\n",
      "Epoch:13, Loss:1097514.7500\n",
      "Epoch:14, Loss:972382.4375\n",
      "Epoch:15, Loss:869659.1250\n",
      "Epoch:16, Loss:784298.3750\n",
      "Epoch:17, Loss:712509.0625\n",
      "Epoch:18, Loss:651352.4375\n",
      "Epoch:19, Loss:598828.4375\n"
     ]
    }
   ],
   "source": [
    "# 使用autograd进行自动求导，计算梯度\n",
    "# 使用autograd模块，需要将Tensor数据类型的变量封装成Variable对象\n",
    "from torch.autograd import Variable\n",
    "\n",
    "batch_n = 100\n",
    "hidden_layer = 100\n",
    "input_data = 1000\n",
    "output_data = 10\n",
    "\n",
    "x = Variable(torch.randn(batch_n, input_data), requires_grad=False)\n",
    "y = Variable(torch.randn(batch_n, output_data), requires_grad=False)\n",
    "\n",
    "w1 = Variable(torch.randn(input_data, hidden_layer), requires_grad=True)\n",
    "w2 = Variable(torch.randn(hidden_layer, output_data), requires_grad=True)\n",
    "\n",
    "epoch_n = 20\n",
    "learning_rate = 1e-6\n",
    "\n",
    "for epoch in range(epoch_n):\n",
    "    y_pred = x.mm(w1).clamp(min=0).mm(w2)\n",
    "    loss = (y_pred - y).pow(2).sum()\n",
    "    print(\"Epoch:{}, Loss:{:.4f}\".format(epoch, loss.data))\n",
    "    \n",
    "    loss.backward()  # 计算后向传播梯度\n",
    "    \n",
    "    w1.data -= learning_rate*w1.grad.data\n",
    "    w2.data -= learning_rate*w2.grad.data\n",
    "    \n",
    "    # 将各个计算节点的梯度全部置为0，防止一直在梯度累加\n",
    "    w1.grad.data.zero_()\n",
    "    w2.grad.data.zero_()"
   ]
  },
  {
   "cell_type": "code",
   "execution_count": 17,
   "id": "indoor-orlando",
   "metadata": {},
   "outputs": [
    {
     "name": "stdout",
     "output_type": "stream",
     "text": [
      "Epoch:0, Loss:58679196.0000\n",
      "Epoch:1, Loss:165197968.0000\n",
      "Epoch:2, Loss:680819840.0000\n",
      "Epoch:3, Loss:732165120.0000\n",
      "Epoch:4, Loss:1962967.6250\n",
      "Epoch:5, Loss:1754400.1250\n",
      "Epoch:6, Loss:1578317.7500\n",
      "Epoch:7, Loss:1428108.5000\n",
      "Epoch:8, Loss:1298251.7500\n",
      "Epoch:9, Loss:1185585.8750\n",
      "Epoch:10, Loss:1087546.3750\n",
      "Epoch:11, Loss:1001894.0625\n",
      "Epoch:12, Loss:926582.7500\n",
      "Epoch:13, Loss:859400.7500\n",
      "Epoch:14, Loss:799301.5625\n",
      "Epoch:15, Loss:745113.8125\n",
      "Epoch:16, Loss:696303.2500\n",
      "Epoch:17, Loss:652182.8125\n",
      "Epoch:18, Loss:612147.0625\n",
      "Epoch:19, Loss:575765.1875\n"
     ]
    }
   ],
   "source": [
    "# 除了采用自动梯度方法，还可以继承nn.Module类重写自定义前向/后向传播函数\n",
    "batch_n = 100\n",
    "hidden_layer = 100\n",
    "input_data = 1000\n",
    "output_data = 10\n",
    "\n",
    "\n",
    "class Model(torch.nn.Module):\n",
    "    def __init__(self):\n",
    "        super(Model, self).__init__()\n",
    "    \n",
    "    def forward(self, input, w1, w2):\n",
    "        x = torch.mm(input, w1)\n",
    "        x = torch.clamp(x, min=0)\n",
    "        x = torch.mm(x, w2)\n",
    "        return x\n",
    "    \n",
    "    def backward(self):\n",
    "        pass\n",
    "    \n",
    "\n",
    "model = Model()\n",
    "x = Variable(torch.randn(batch_n, input_data), requires_grad=False)\n",
    "y = Variable(torch.randn(batch_n, output_data), requires_grad=False)\n",
    "\n",
    "w1 = Variable(torch.randn(input_data, hidden_layer), requires_grad=True)\n",
    "w2 = Variable(torch.randn(hidden_layer, output_data), requires_grad=True)\n",
    "\n",
    "epoch_n = 20\n",
    "learning_rate = 1e-6\n",
    "\n",
    "for epoch in range(epoch_n):\n",
    "    y_pred = model(x, w1, w2)\n",
    "    \n",
    "    loss = (y_pred - y).pow(2).sum()\n",
    "    print(\"Epoch:{}, Loss:{:.4f}\".format(epoch, loss.data))\n",
    "    loss.backward()\n",
    "    \n",
    "    w1.data -= learning_rate*w1.grad.data\n",
    "    w2.data -= learning_rate*w2.grad.data\n",
    "    \n",
    "    w1.grad.data.zero_()\n",
    "    w2.grad.data.zero_()"
   ]
  },
  {
   "cell_type": "code",
   "execution_count": 25,
   "id": "tropical-insert",
   "metadata": {},
   "outputs": [
    {
     "name": "stdout",
     "output_type": "stream",
     "text": [
      "Epoch:0, Loss:1.1006\n",
      "Epoch:1000, Loss:1.0175\n",
      "Epoch:2000, Loss:0.9456\n",
      "Epoch:3000, Loss:0.8823\n",
      "Epoch:4000, Loss:0.8260\n",
      "Epoch:5000, Loss:0.7752\n",
      "Epoch:6000, Loss:0.7284\n",
      "Epoch:7000, Loss:0.6848\n",
      "Epoch:8000, Loss:0.6440\n",
      "Epoch:9000, Loss:0.6055\n"
     ]
    }
   ],
   "source": [
    "# 搭建模型\n",
    "import torch\n",
    "from torch.autograd import Variable\n",
    "\n",
    "batch_n = 100\n",
    "hidden_layer = 100\n",
    "input_data = 1000\n",
    "output_data = 10\n",
    "\n",
    "x = Variable(torch.randn(batch_n, input_data), requires_grad=False)\n",
    "y = Variable(torch.randn(batch_n, output_data), requires_grad=False)\n",
    "\n",
    "models = torch.nn.Sequential(\n",
    "    torch.nn.Linear(input_data, hidden_layer),\n",
    "    torch.nn.ReLU(),\n",
    "    torch.nn.Linear(hidden_layer, output_data))\n",
    "\n",
    "epoch_n = 10000\n",
    "learning_rate = 1e-4\n",
    "loss_fn = torch.nn.MSELoss()\n",
    "\n",
    "for epoch in range(epoch_n):\n",
    "    y_pred = models(x)\n",
    "    loss = loss_fn(y_pred, y)\n",
    "    if epoch % 1000 ==0:\n",
    "        print(\"Epoch:{}, Loss:{:.4f}\".format(epoch, loss.data))\n",
    "    models.zero_grad()\n",
    "    \n",
    "    loss.backward()\n",
    "    \n",
    "    for param in models.parameters():\n",
    "        param.data -= param.grad.data*learning_rate\n"
   ]
  },
  {
   "cell_type": "code",
   "execution_count": 41,
   "id": "chinese-tooth",
   "metadata": {},
   "outputs": [
    {
     "name": "stdout",
     "output_type": "stream",
     "text": [
      "Epoch:0, Loss:1.1178\n",
      "Epoch:1, Loss:1.0958\n",
      "Epoch:2, Loss:1.0742\n",
      "Epoch:3, Loss:1.0531\n",
      "Epoch:4, Loss:1.0325\n",
      "Epoch:5, Loss:1.0125\n",
      "Epoch:6, Loss:0.9930\n",
      "Epoch:7, Loss:0.9740\n",
      "Epoch:8, Loss:0.9554\n",
      "Epoch:9, Loss:0.9374\n",
      "Epoch:10, Loss:0.9197\n",
      "Epoch:11, Loss:0.9026\n",
      "Epoch:12, Loss:0.8858\n",
      "Epoch:13, Loss:0.8694\n",
      "Epoch:14, Loss:0.8534\n",
      "Epoch:15, Loss:0.8377\n",
      "Epoch:16, Loss:0.8224\n",
      "Epoch:17, Loss:0.8074\n",
      "Epoch:18, Loss:0.7927\n",
      "Epoch:19, Loss:0.7783\n"
     ]
    }
   ],
   "source": [
    "# 使用optim类中的参数优化方法\n",
    "models = torch.nn.Sequential(\n",
    "    torch.nn.Linear(input_data, hidden_layer),\n",
    "    torch.nn.ReLU(),\n",
    "    torch.nn.Linear(hidden_layer, output_data))\n",
    "\n",
    "optimzer = torch.optim.Adam(models.parameters(), lr=learning_rate)\n",
    "\n",
    "for epoch in range(20):\n",
    "    y_pred = models(x)\n",
    "    loss = loss_fn(y_pred, y)\n",
    "    print(\"Epoch:{}, Loss:{:.4f}\".format(epoch, loss.data))\n",
    "    optimzer.zero_grad()\n",
    "    \n",
    "    loss.backward()\n",
    "    \n",
    "    # 更新参数\n",
    "    optimzer.step()"
   ]
  },
  {
   "cell_type": "code",
   "execution_count": 1,
   "id": "muslim-prophet",
   "metadata": {},
   "outputs": [],
   "source": [
    "# 手写数字识别\n",
    "import torch\n",
    "from torchvision import datasets, transforms\n",
    "from torch.autograd import Variable\n",
    "\n",
    "# 定义数据变换类型\n",
    "transform = transforms.Compose([transforms.ToTensor(),\n",
    "            transforms.Normalize(mean=[0.5],std=[0.5])])\n",
    "#下载、载入数据，并进行数据变换\n",
    "data_train = datasets.MNIST(root=\"./data\",\n",
    "                           transform=transform,\n",
    "                           train=True,\n",
    "                           download=True)\n",
    "date_test = datasets.MNIST(root=\"./data\",\n",
    "                          transform=transform,\n",
    "                          train=False)\n",
    "# 对数据进行装载、分割\n",
    "data_loader_train = torch.utils.data.DataLoader(dataset=data_train,\n",
    "                                               batch_size=64,\n",
    "                                               shuffle=True)\n",
    "data_loader_test = torch.utils.data.DataLoader(dataset=date_test,\n",
    "                                              batch_size=64,\n",
    "                                              shuffle=True)\n"
   ]
  },
  {
   "cell_type": "code",
   "execution_count": 2,
   "id": "curious-prototype",
   "metadata": {},
   "outputs": [
    {
     "name": "stdout",
     "output_type": "stream",
     "text": [
      "[tensor(8), tensor(6), tensor(8), tensor(4), tensor(2), tensor(9), tensor(8), tensor(8), tensor(1), tensor(5), tensor(7), tensor(3), tensor(7), tensor(6), tensor(8), tensor(4), tensor(8), tensor(5), tensor(2), tensor(5), tensor(9), tensor(5), tensor(7), tensor(0), tensor(4), tensor(1), tensor(9), tensor(4), tensor(1), tensor(3), tensor(8), tensor(4), tensor(0), tensor(6), tensor(5), tensor(8), tensor(9), tensor(2), tensor(1), tensor(8), tensor(9), tensor(4), tensor(6), tensor(5), tensor(0), tensor(2), tensor(7), tensor(5), tensor(3), tensor(6), tensor(9), tensor(3), tensor(4), tensor(7), tensor(4), tensor(4), tensor(9), tensor(9), tensor(2), tensor(6), tensor(2), tensor(7), tensor(5), tensor(6)]\n"
     ]
    },
    {
     "data": {
      "text/plain": [
       "<matplotlib.image.AxesImage at 0x1944925b860>"
      ]
     },
     "execution_count": 2,
     "metadata": {},
     "output_type": "execute_result"
    },
    {
     "data": {
      "image/png": "[encoded data removed]",
      "text/plain": [
       "<Figure size 432x288 with 1 Axes>"
      ]
     },
     "metadata": {
      "needs_background": "light"
     },
     "output_type": "display_data"
    }
   ],
   "source": [
    "# 预览数据分割后的一批数据\n",
    "%matplotlib inline\n",
    "import matplotlib.pyplot as plt\n",
    "import torchvision\n",
    "\n",
    "images, labels = next(iter(data_loader_train))\n",
    "# 将同一批次的图片构造成网格模式\n",
    "img = torchvision.utils.make_grid(images)\n",
    "# transpose 为交换数据维度 由（channel,height,weight）=>(height,weight,channel)\n",
    "img = img.numpy().transpose(1,2,0)\n",
    "# 图像为三通道，std为每个通道的方差\n",
    "std = [0.5,0.5,0.5]\n",
    "mean = [0.5,0.5,0.5]\n",
    "img = img*std+mean\n",
    "print([labels[i] for i in range(64)])\n",
    "plt.imshow(img)"
   ]
  },
  {
   "cell_type": "code",
   "execution_count": 3,
   "id": "informative-harassment",
   "metadata": {},
   "outputs": [],
   "source": [
    "# 实现卷积神经网络\n",
    "class Model(torch.nn.Module):\n",
    "    \n",
    "    def __init__(self):\n",
    "        super(Model, self).__init__()\n",
    "        self.convl=torch.nn.Sequential(\n",
    "            torch.nn.Conv2d(1, 64, kernel_size=3, stride=1, padding=1),\n",
    "            torch.nn.ReLU(),\n",
    "            torch.nn.Conv2d(64, 128, kernel_size=3, stride=1, padding=1),\n",
    "            torch.nn.ReLU(),\n",
    "            torch.nn.MaxPool2d(stride=2, kernel_size=2))\n",
    "        \n",
    "        self.dense=torch.nn.Sequential(\n",
    "            torch.nn.Linear(14*14*128, 1024),\n",
    "            torch.nn.ReLU(),\n",
    "            torch.nn.Dropout(p=0.5),\n",
    "            torch.nn.Linear(1024, 10))\n",
    "    \n",
    "    def forward(self, x):\n",
    "        x = self.convl(x)\n",
    "        x = x.view(-1, 14*14*128)\n",
    "        x = self.dense(x)\n",
    "        return x"
   ]
  },
  {
   "cell_type": "code",
   "execution_count": 4,
   "id": "racial-passing",
   "metadata": {},
   "outputs": [],
   "source": [
    "model = Model()\n",
    "# 损失函数使用交叉熵\n",
    "cost = torch.nn.CrossEntropyLoss()\n",
    "# 参数优化采用Adam自适应算法，学习率默认\n",
    "optimizer = torch.optim.Adam(model.parameters())"
   ]
  },
  {
   "cell_type": "code",
   "execution_count": 5,
   "id": "informed-portugal",
   "metadata": {},
   "outputs": [
    {
     "data": {
      "text/plain": [
       "Model(\n",
       "  (convl): Sequential(\n",
       "    (0): Conv2d(1, 64, kernel_size=(3, 3), stride=(1, 1), padding=(1, 1))\n",
       "    (1): ReLU()\n",
       "    (2): Conv2d(64, 128, kernel_size=(3, 3), stride=(1, 1), padding=(1, 1))\n",
       "    (3): ReLU()\n",
       "    (4): MaxPool2d(kernel_size=2, stride=2, padding=0, dilation=1, ceil_mode=False)\n",
       "  )\n",
       "  (dense): Sequential(\n",
       "    (0): Linear(in_features=25088, out_features=1024, bias=True)\n",
       "    (1): ReLU()\n",
       "    (2): Dropout(p=0.5, inplace=False)\n",
       "    (3): Linear(in_features=1024, out_features=10, bias=True)\n",
       "  )\n",
       ")"
      ]
     },
     "execution_count": 5,
     "metadata": {},
     "output_type": "execute_result"
    }
   ],
   "source": [
    "model"
   ]
  },
  {
   "cell_type": "code",
   "execution_count": 6,
   "id": "hybrid-sucking",
   "metadata": {},
   "outputs": [
    {
     "name": "stdout",
     "output_type": "stream",
     "text": [
      "Epoch0/5\n",
      "----------\n",
      "Loss is:0.0020, Train Accuracy is:96.0650%, Test Accuracy is:97.9300%\n",
      "Epoch1/5\n",
      "----------\n",
      "Loss is:0.0007, Train Accuracy is:98.5750%, Test Accuracy is:98.3000%\n",
      "Epoch2/5\n",
      "----------\n",
      "Loss is:0.0005, Train Accuracy is:99.0783%, Test Accuracy is:98.5200%\n",
      "Epoch3/5\n",
      "----------\n",
      "Loss is:0.0003, Train Accuracy is:99.3000%, Test Accuracy is:98.7700%\n",
      "Epoch4/5\n",
      "----------\n",
      "Loss is:0.0003, Train Accuracy is:99.4450%, Test Accuracy is:98.5300%\n"
     ]
    }
   ],
   "source": [
    "# 进行模型训练\n",
    "n_epochs = 5\n",
    "\n",
    "for epoch in range(n_epochs):\n",
    "    running_loss = 0.0\n",
    "    running_correct = 0\n",
    "    print(\"Epoch{}/{}\".format(epoch, n_epochs))\n",
    "    print(\"-\"*10)\n",
    "    for data in data_loader_train:\n",
    "        X_train, y_train = data\n",
    "        X_train, y_train = Variable(X_train), Variable(y_train)\n",
    "        outputs = model(X_train)\n",
    "        _, pred = torch.max(outputs.data, 1)\n",
    "        optimizer.zero_grad()\n",
    "        loss = cost(outputs, y_train)\n",
    "        \n",
    "        loss.backward()\n",
    "        optimizer.step()\n",
    "        running_loss += loss.data\n",
    "        running_correct += torch.sum(pred == y_train.data)\n",
    "    testing_correct = 0\n",
    "    for data in data_loader_test:\n",
    "        X_test, y_test = data\n",
    "        X_test, y_test = Variable(X_test), Variable(y_test)\n",
    "        outputs = model(X_test)\n",
    "        _, pred = torch.max(outputs.data, 1)\n",
    "        testing_correct += torch.sum(pred == y_test.data)\n",
    "    print(\"Loss is:{:.4f}, Train Accuracy is:{:.4f}%, Test Accuracy \"\\\n",
    "          \"is:{:.4f}%\".format(torch.true_divide(running_loss, len(data_train)),\n",
    "                    torch.true_divide(100*running_correct, len(data_train)),\n",
    "                    torch.true_divide(100*testing_correct, len(date_test))))"
   ]
  },
  {
   "cell_type": "code",
   "execution_count": 9,
   "id": "graphic-devices",
   "metadata": {},
   "outputs": [
    {
     "name": "stdout",
     "output_type": "stream",
     "text": [
      "Predict Label is: [tensor(8), tensor(3), tensor(5), tensor(0), tensor(5), tensor(7)]\n",
      "Real Label is: [tensor(8), tensor(3), tensor(5), tensor(0), tensor(5), tensor(7)]\n"
     ]
    },
    {
     "data": {
      "text/plain": [
       "<matplotlib.image.AxesImage at 0x194518117f0>"
      ]
     },
     "execution_count": 9,
     "metadata": {},
     "output_type": "execute_result"
    },
    {
     "data": {
      "image/png": "[encoded data removed]",
      "text/plain": [
       "<Figure size 432x288 with 1 Axes>"
      ]
     },
     "metadata": {
      "needs_background": "light"
     },
     "output_type": "display_data"
    }
   ],
   "source": [
    "# 随机抽取部分测试集数据，查看结果\n",
    "data_loader_test = torch.utils.data.DataLoader(dataset=date_test,\n",
    "                                              batch_size=6,\n",
    "                                              shuffle=True)\n",
    "X_test, y_test = next(iter(data_loader_test))\n",
    "inputs = Variable(X_test)\n",
    "pred = model(inputs)\n",
    "_, pred = torch.max(pred, 1)\n",
    "\n",
    "print(\"Predict Label is:\", [i for i in pred.data])\n",
    "print(\"Real Label is:\", [i for i in y_test])\n",
    "\n",
    "img = torchvision.utils.make_grid(X_test)\n",
    "img = img.numpy().transpose(1,2,0)\n",
    "\n",
    "std = [0.5, 0.5, 0.5]\n",
    "mean = [0.5, 0.5, 0.5]\n",
    "img = img*std+mean\n",
    "plt.imshow(img)"
   ]
  },
  {
   "cell_type": "code",
   "execution_count": null,
   "id": "stupid-discovery",
   "metadata": {},
   "outputs": [],
   "source": []
  }
 ],
 "metadata": {
  "kernelspec": {
   "display_name": "Python 3",
   "language": "python",
   "name": "python3"
  },
  "language_info": {
   "codemirror_mode": {
    "name": "ipython",
    "version": 3
   },
   "file_extension": ".py",
   "mimetype": "text/x-python",
   "name": "python",
   "nbconvert_exporter": "python",
   "pygments_lexer": "ipython3",
   "version": "3.5.2"
  }
 },
 "nbformat": 4,
 "nbformat_minor": 5
}
