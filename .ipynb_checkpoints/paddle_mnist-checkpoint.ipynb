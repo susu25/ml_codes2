{
 "cells": [
  {
   "cell_type": "code",
   "execution_count": 1,
   "id": "superior-abraham",
   "metadata": {},
   "outputs": [],
   "source": [
    "#加载飞桨和相关类库\n",
    "import paddle\n",
    "from paddle.nn import Linear\n",
    "import paddle.nn.functional as F\n",
    "import os\n",
    "import numpy as np\n",
    "%matplotlib inline\n",
    "import matplotlib.pyplot as plt"
   ]
  },
  {
   "cell_type": "code",
   "execution_count": 2,
   "id": "protected-mission",
   "metadata": {},
   "outputs": [
    {
     "name": "stderr",
     "output_type": "stream",
     "text": [
      "Cache file C:\\Users\\su\\.cache\\paddle\\dataset\\mnist\\train-images-idx3-ubyte.gz not found, downloading https://dataset.bj.bcebos.com/mnist/train-images-idx3-ubyte.gz \n",
      "Begin to download\n",
      "\n",
      "Download finished\n",
      "Cache file C:\\Users\\su\\.cache\\paddle\\dataset\\mnist\\train-labels-idx1-ubyte.gz not found, downloading https://dataset.bj.bcebos.com/mnist/train-labels-idx1-ubyte.gz \n",
      "Begin to download\n",
      "........\n",
      "Download finished\n"
     ]
    }
   ],
   "source": [
    "# 设置数据读取器，API自动读取MNIST数据训练集\n",
    "train_dataset = paddle.vision.datasets.MNIST(mode='train')"
   ]
  },
  {
   "cell_type": "code",
   "execution_count": 3,
   "id": "offensive-shepherd",
   "metadata": {},
   "outputs": [
    {
     "data": {
      "text/plain": [
       "<Figure size 432x288 with 0 Axes>"
      ]
     },
     "metadata": {},
     "output_type": "display_data"
    },
    {
     "data": {
      "image/png": "[encoded data removed]",
      "text/plain": [
       "<Figure size 144x144 with 1 Axes>"
      ]
     },
     "metadata": {
      "needs_background": "light"
     },
     "output_type": "display_data"
    },
    {
     "name": "stdout",
     "output_type": "stream",
     "text": [
      "图像数据形状和对应数据为: (28, 28)\n",
      "图像标签形状和对应数据为: (1,) [5]\n",
      "\n",
      "打印第一个batch的第一个图像，对应标签数字为[5]\n"
     ]
    }
   ],
   "source": [
    "train_data0 = np.array(train_dataset[0][0])\n",
    "train_label_0 = np.array(train_dataset[0][1])\n",
    "\n",
    "# 显示第一batch的第一个图像\n",
    "import matplotlib.pyplot as plt\n",
    "plt.figure(\"Image\") # 图像窗口名称\n",
    "plt.figure(figsize=(2,2))\n",
    "plt.imshow(train_data0, cmap=plt.cm.binary)\n",
    "plt.axis('on') # 关掉坐标轴为 off\n",
    "plt.title('image') # 图像题目\n",
    "plt.show()\n",
    "\n",
    "print(\"图像数据形状和对应数据为:\", train_data0.shape)\n",
    "print(\"图像标签形状和对应数据为:\", train_label_0.shape, train_label_0)\n",
    "print(\"\\n打印第一个batch的第一个图像，对应标签数字为{}\".format(train_label_0))"
   ]
  },
  {
   "cell_type": "code",
   "execution_count": 4,
   "id": "upper-commons",
   "metadata": {},
   "outputs": [],
   "source": [
    "# 定义mnist数据识别网络结构，同房价预测网络\n",
    "class MNIST(paddle.nn.Layer):\n",
    "    def __init__(self):\n",
    "        super(MNIST, self).__init__()\n",
    "        \n",
    "        # 定义一层全连接层，输出维度是1\n",
    "        self.fc = paddle.nn.Linear(in_features=784, out_features=1)\n",
    "        \n",
    "    # 定义网络结构的前向计算过程\n",
    "    def forward(self, inputs):\n",
    "        outputs = self.fc(inputs)\n",
    "        return outputs"
   ]
  },
  {
   "cell_type": "code",
   "execution_count": 5,
   "id": "magnetic-accommodation",
   "metadata": {},
   "outputs": [],
   "source": [
    "# 声明网络结构\n",
    "model = MNIST()\n",
    "\n",
    "def train(model):\n",
    "    # 启动训练模式\n",
    "    model.train()\n",
    "    # 加载训练集 batch_size 设为 16\n",
    "    train_loader = paddle.io.DataLoader(paddle.vision.datasets.MNIST(mode='train'), \n",
    "                                        batch_size=16, \n",
    "                                        shuffle=True)\n",
    "    # 定义优化器，使用随机梯度下降SGD优化器，学习率设置为0.001\n",
    "    opt = paddle.optimizer.SGD(learning_rate=0.001, parameters=model.parameters())"
   ]
  },
  {
   "cell_type": "code",
   "execution_count": 6,
   "id": "wrong-genre",
   "metadata": {},
   "outputs": [],
   "source": [
    "# 图像归一化函数，将数据范围为[0, 255]的图像归一化到[0, 1]\n",
    "def norm_img(img):\n",
    "    # 验证传入数据格式是否正确，img的shape为[batch_size, 28, 28]\n",
    "    assert len(img.shape) == 3\n",
    "    batch_size, img_h, img_w = img.shape[0], img.shape[1], img.shape[2]\n",
    "    # 归一化图像数据\n",
    "    img = img / 255\n",
    "    # 将图像形式reshape为[batch_size, 784]\n",
    "    img = paddle.reshape(img, [batch_size, img_h*img_w])\n",
    "    \n",
    "    return img"
   ]
  },
  {
   "cell_type": "code",
   "execution_count": 7,
   "id": "loving-bristol",
   "metadata": {},
   "outputs": [
    {
     "name": "stdout",
     "output_type": "stream",
     "text": [
      "epoch_id: 0, batch_id: 0, loss is: [30.253233]\n",
      "epoch_id: 0, batch_id: 1000, loss is: [4.985679]\n",
      "epoch_id: 0, batch_id: 2000, loss is: [1.9716307]\n",
      "epoch_id: 0, batch_id: 3000, loss is: [1.4120758]\n",
      "epoch_id: 1, batch_id: 0, loss is: [3.2983637]\n",
      "epoch_id: 1, batch_id: 1000, loss is: [2.1165075]\n",
      "epoch_id: 1, batch_id: 2000, loss is: [2.4891887]\n",
      "epoch_id: 1, batch_id: 3000, loss is: [5.7865686]\n",
      "epoch_id: 2, batch_id: 0, loss is: [2.5168257]\n",
      "epoch_id: 2, batch_id: 1000, loss is: [3.9408858]\n",
      "epoch_id: 2, batch_id: 2000, loss is: [2.294053]\n",
      "epoch_id: 2, batch_id: 3000, loss is: [3.1506689]\n",
      "epoch_id: 3, batch_id: 0, loss is: [3.043604]\n",
      "epoch_id: 3, batch_id: 1000, loss is: [2.089335]\n",
      "epoch_id: 3, batch_id: 2000, loss is: [3.1366806]\n",
      "epoch_id: 3, batch_id: 3000, loss is: [1.9132708]\n",
      "epoch_id: 4, batch_id: 0, loss is: [2.3629537]\n",
      "epoch_id: 4, batch_id: 1000, loss is: [2.3823667]\n",
      "epoch_id: 4, batch_id: 2000, loss is: [7.1325855]\n",
      "epoch_id: 4, batch_id: 3000, loss is: [3.2050278]\n",
      "epoch_id: 5, batch_id: 0, loss is: [2.7646892]\n",
      "epoch_id: 5, batch_id: 1000, loss is: [3.6414194]\n",
      "epoch_id: 5, batch_id: 2000, loss is: [1.554898]\n",
      "epoch_id: 5, batch_id: 3000, loss is: [3.4798856]\n",
      "epoch_id: 6, batch_id: 0, loss is: [3.0875762]\n",
      "epoch_id: 6, batch_id: 1000, loss is: [4.4535084]\n",
      "epoch_id: 6, batch_id: 2000, loss is: [2.8094735]\n",
      "epoch_id: 6, batch_id: 3000, loss is: [4.023452]\n",
      "epoch_id: 7, batch_id: 0, loss is: [2.0904856]\n",
      "epoch_id: 7, batch_id: 1000, loss is: [4.9339523]\n",
      "epoch_id: 7, batch_id: 2000, loss is: [2.667097]\n",
      "epoch_id: 7, batch_id: 3000, loss is: [3.1103954]\n",
      "epoch_id: 8, batch_id: 0, loss is: [3.1140554]\n",
      "epoch_id: 8, batch_id: 1000, loss is: [6.9287844]\n",
      "epoch_id: 8, batch_id: 2000, loss is: [2.5091822]\n",
      "epoch_id: 8, batch_id: 3000, loss is: [3.8818753]\n",
      "epoch_id: 9, batch_id: 0, loss is: [2.1642385]\n",
      "epoch_id: 9, batch_id: 1000, loss is: [4.5909348]\n",
      "epoch_id: 9, batch_id: 2000, loss is: [2.6052127]\n",
      "epoch_id: 9, batch_id: 3000, loss is: [4.989383]\n"
     ]
    }
   ],
   "source": [
    "import paddle\n",
    "# 确保从paddle.vision.datasets.MNIST中加载的图像数据是np.ndarray类型\n",
    "paddle.vision.set_image_backend('cv2')\n",
    "\n",
    "# 声明网络结构\n",
    "model = MNIST()\n",
    "\n",
    "def train(model):\n",
    "    # 启动训练模式\n",
    "    model.train()\n",
    "    # 加载训练集 batch_size 设为 16\n",
    "    train_loader = paddle.io.DataLoader(paddle.vision.datasets.MNIST(mode='train'), \n",
    "                                        batch_size=16, \n",
    "                                        shuffle=True)\n",
    "    # 定义优化器，使用随机梯度下降SGD优化器，学习率设置为0.001\n",
    "    opt = paddle.optimizer.SGD(learning_rate=0.001, parameters=model.parameters())\n",
    "    EPOCH_NUM = 10\n",
    "    for epoch in range(EPOCH_NUM):\n",
    "        for batch_id, data in enumerate(train_loader()):\n",
    "            images = norm_img(data[0]).astype('float32')\n",
    "            labels = data[1].astype('float32')\n",
    "            \n",
    "            #前向计算的过程\n",
    "            predicts = model(images)\n",
    "            \n",
    "            # 计算损失\n",
    "            loss = F.square_error_cost(predicts, labels)\n",
    "            avg_loss = paddle.mean(loss)\n",
    "            \n",
    "            #每训练了1000批次的数据，打印下当前Loss的情况\n",
    "            if batch_id % 1000 == 0:\n",
    "                print(\"epoch_id: {}, batch_id: {}, loss is: {}\".format(epoch, batch_id, avg_loss.numpy()))\n",
    "            \n",
    "            #后向传播，更新参数的过程\n",
    "            avg_loss.backward()\n",
    "            opt.step()\n",
    "            opt.clear_grad()\n",
    "            \n",
    "train(model)\n",
    "paddle.save(model.state_dict(), './data/mnist.pdparams')"
   ]
  },
  {
   "cell_type": "code",
   "execution_count": 9,
   "id": "outside-characteristic",
   "metadata": {},
   "outputs": [
    {
     "data": {
      "image/png": "[encoded data removed]",
      "text/plain": [
       "<Figure size 432x288 with 1 Axes>"
      ]
     },
     "metadata": {
      "needs_background": "light"
     },
     "output_type": "display_data"
    },
    {
     "name": "stdout",
     "output_type": "stream",
     "text": [
      "原始图像shape:  (263, 281)\n"
     ]
    },
    {
     "data": {
      "image/png": "[encoded data removed]",
      "text/plain": [
       "<Figure size 432x288 with 1 Axes>"
      ]
     },
     "metadata": {
      "needs_background": "light"
     },
     "output_type": "display_data"
    },
    {
     "name": "stdout",
     "output_type": "stream",
     "text": [
      "采样后图片shape:  (28, 28)\n"
     ]
    }
   ],
   "source": [
    "# 导入图像读取第三方库\n",
    "import matplotlib.pyplot as plt\n",
    "import numpy as np\n",
    "from PIL import Image\n",
    "\n",
    "img_path = './data/example_6.jpg'\n",
    "# 读取原始图像并显示\n",
    "im = Image.open(img_path)\n",
    "plt.imshow(im)\n",
    "plt.show()\n",
    "# 将原始图像转为灰度图\n",
    "im = im.convert('L')\n",
    "print('原始图像shape: ', np.array(im).shape)\n",
    "# 使用Image.ANTIALIAS方式采样原始图片\n",
    "im = im.resize((28, 28), Image.ANTIALIAS)\n",
    "plt.imshow(im)\n",
    "plt.show()\n",
    "print(\"采样后图片shape: \", np.array(im).shape)"
   ]
  },
  {
   "cell_type": "code",
   "execution_count": 10,
   "id": "plastic-defensive",
   "metadata": {},
   "outputs": [
    {
     "name": "stdout",
     "output_type": "stream",
     "text": [
      "result Tensor(shape=[1, 1], dtype=float32, place=CPUPlace, stop_gradient=False,\n",
      "       [[21.19684029]])\n",
      "本次预测的数字是 [[21]]\n"
     ]
    }
   ],
   "source": [
    "# 读取一张本地的样例图片，转变成模型输入的格式\n",
    "def load_image(img_path):\n",
    "    # 从img_path中读取图像，并转为灰度图\n",
    "    im = Image.open(img_path).convert('L')\n",
    "    # print(np.array(im))\n",
    "    im = im.resize((28, 28), Image.ANTIALIAS)\n",
    "    im = np.array(im).reshape(1, -1).astype(np.float32)\n",
    "    # 图像归一化，保持和数据集的数据范围一致\n",
    "    im = 1 - im / 255\n",
    "    return im\n",
    "\n",
    "# 定义预测过程\n",
    "model = MNIST()\n",
    "params_file_path = './data/mnist.pdparams'\n",
    "img_path = './data/example_6.jpg'\n",
    "# 加载模型参数\n",
    "param_dict = paddle.load(params_file_path)\n",
    "model.load_dict(param_dict)\n",
    "# 灌入数据\n",
    "model.eval()\n",
    "tensor_img = load_image(img_path)\n",
    "result = model(paddle.to_tensor(tensor_img))\n",
    "print('result',result)\n",
    "#  预测输出取整，即为预测的数字，打印结果\n",
    "print(\"本次预测的数字是\", result.numpy().astype('int32'))"
   ]
  },
  {
   "cell_type": "code",
   "execution_count": null,
   "id": "potential-affiliation",
   "metadata": {},
   "outputs": [],
   "source": []
  }
 ],
 "metadata": {
  "kernelspec": {
   "display_name": "Python 3",
   "language": "python",
   "name": "python3"
  },
  "language_info": {
   "codemirror_mode": {
    "name": "ipython",
    "version": 3
   },
   "file_extension": ".py",
   "mimetype": "text/x-python",
   "name": "python",
   "nbconvert_exporter": "python",
   "pygments_lexer": "ipython3",
   "version": "3.5.2"
  }
 },
 "nbformat": 4,
 "nbformat_minor": 5
}
