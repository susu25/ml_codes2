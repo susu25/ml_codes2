{
 "cells": [
  {
   "cell_type": "code",
   "execution_count": 12,
   "id": "exclusive-breakdown",
   "metadata": {},
   "outputs": [],
   "source": [
    "import cv2\n",
    "\n",
    "\n",
    "def face_detect(img_path, res_path):\n",
    "    color = (0, 255, 0)\n",
    "    img_bgr = cv2.imread(img_path)\n",
    "    classifier = cv2.CascadeClassifier('./haarcascade_frontalface_alt2.xml')\n",
    "    img_gray = cv2.cvtColor(img_bgr, cv2.COLOR_BGR2GRAY)\n",
    "    facerects = classifier.detectMultiScale(img_gray)\n",
    "    if len(facerects) > 0:\n",
    "#         for rect in facerects:\n",
    "        x, y, w, h = facerects[0]\n",
    "#             img = cv2.rectangle(img_bgr,(x,y),(x+w,y+h),color,2)\n",
    "        img = img_bgr[y:y+h, x:x+w]\n",
    "        cv2.imwrite(res_path,img)\n",
    "#         cv2.imshow('img',img)\n",
    "#         cv2.waitKey()\n",
    "\n",
    "# face_detect('E:\\Data\\CACD\\samples_0.jpg', 'E:\\Data\\CACD\\data\\CACDFACE\\samples_0.jpg')\n"
   ]
  },
  {
   "cell_type": "code",
   "execution_count": null,
   "id": "adjacent-setting",
   "metadata": {},
   "outputs": [],
   "source": []
  },
  {
   "cell_type": "code",
   "execution_count": null,
   "id": "satisfied-saver",
   "metadata": {},
   "outputs": [],
   "source": []
  }
 ],
 "metadata": {
  "kernelspec": {
   "display_name": "Python 3",
   "language": "python",
   "name": "python3"
  },
  "language_info": {
   "codemirror_mode": {
    "name": "ipython",
    "version": 3
   },
   "file_extension": ".py",
   "mimetype": "text/x-python",
   "name": "python",
   "nbconvert_exporter": "python",
   "pygments_lexer": "ipython3",
   "version": "3.5.2"
  }
 },
 "nbformat": 4,
 "nbformat_minor": 5
}
