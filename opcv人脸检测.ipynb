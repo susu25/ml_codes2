{
 "cells": [
  {
   "cell_type": "code",
   "execution_count": 29,
   "id": "happy-mustang",
   "metadata": {},
   "outputs": [],
   "source": [
    "import cv2\n",
    "\n",
    "\n",
    "def face_detect(img_path, res_path):\n",
    "    color = (0, 255, 0)\n",
    "    img_bgr = cv2.imread(img_path)\n",
    "    classifier = cv2.CascadeClassifier('./haarcascade_frontalface_alt2.xml')\n",
    "    img_gray = cv2.cvtColor(img_bgr, cv2.COLOR_BGR2GRAY)\n",
    "    facerects = classifier.detectMultiScale(img_gray,1.1,5,cv2.CASCADE_SCALE_IMAGE)\n",
    "    if len(facerects) > 0:\n",
    "#         for rect in facerects:\n",
    "        x, y, w, h = facerects[0]\n",
    "#             img = cv2.rectangle(img_bgr,(x,y),(x+w,y+h),color,2)\n",
    "        img = img_bgr[y:y+h, x:x+w]\n",
    "        cv2.imwrite(res_path,img)\n",
    "#         cv2.imshow('img',img)\n",
    "#         cv2.waitKey()\n",
    "\n",
    "# face_detect('E:\\Data\\imgs\\9487.jpeg', 'E:\\Data\\imgsface\\9487.jpeg')\n"
   ]
  },
  {
   "cell_type": "code",
   "execution_count": 30,
   "id": "popular-banana",
   "metadata": {},
   "outputs": [
    {
     "name": "stderr",
     "output_type": "stream",
     "text": [
      "100%|██████████████████████████████████████████████████████████████████████████████| 9566/9566 [06:27<00:00, 24.71it/s]\n"
     ]
    }
   ],
   "source": [
    "import os\n",
    "from tqdm import tqdm\n",
    "\n",
    "\n",
    "images_path = 'E:\\Data\\imgs'\n",
    "res_path = 'E:\\Data\\imgsface'\n",
    "\n",
    "image_datas = os.listdir(images_path)\n",
    "for img_name in tqdm(image_datas):\n",
    "    img_path = os.path.join(images_path, img_name)\n",
    "    res_img_path = os.path.join(res_path, img_name)\n",
    "    try:\n",
    "        face_detect(img_path, res_img_path)\n",
    "    except Exception as e:\n",
    "#         print('Error: ', e, img_name)\n",
    "        pass\n",
    "        "
   ]
  },
  {
   "cell_type": "code",
   "execution_count": null,
   "id": "virtual-boulder",
   "metadata": {},
   "outputs": [],
   "source": []
  }
 ],
 "metadata": {
  "kernelspec": {
   "display_name": "Python 3",
   "language": "python",
   "name": "python3"
  },
  "language_info": {
   "codemirror_mode": {
    "name": "ipython",
    "version": 3
   },
   "file_extension": ".py",
   "mimetype": "text/x-python",
   "name": "python",
   "nbconvert_exporter": "python",
   "pygments_lexer": "ipython3",
   "version": "3.5.2"
  }
 },
 "nbformat": 4,
 "nbformat_minor": 5
}
