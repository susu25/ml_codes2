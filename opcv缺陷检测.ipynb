{
 "cells": [
  {
   "cell_type": "code",
   "execution_count": 1,
   "id": "cardiovascular-cooperation",
   "metadata": {},
   "outputs": [],
   "source": [
    "import cv2\n",
    "import os\n",
    "import numpy as np\n",
    "import time\n"
   ]
  },
  {
   "cell_type": "code",
   "execution_count": 2,
   "id": "rubber-sleeping",
   "metadata": {},
   "outputs": [
    {
     "name": "stdout",
     "output_type": "stream",
     "text": [
      "(320, 800)\n"
     ]
    }
   ],
   "source": [
    "t1 = time.time()\n",
    "img = cv2.imread('./data/defect.jpg', 0)\n",
    "img_copy = cv2.imread('./data/defect.jpg', 0)\n",
    "mask = np.zeros_like(img)\n",
    "print(np.shape(img))\n"
   ]
  },
  {
   "cell_type": "code",
   "execution_count": 3,
   "id": "stylish-shanghai",
   "metadata": {},
   "outputs": [],
   "source": [
    "# 先利用二值化去除图片噪声\n",
    "ret, img = cv2.threshold(img, 80, 255, cv2.THRESH_BINARY)\n",
    "\n",
    "es = cv2.getStructuringElement(cv2.MORPH_ELLIPSE, (4, 2))\n",
    "img = cv2.dilate(img, es, iterations=1)  # 形态学膨胀\n",
    "\n",
    "kernel = np.ones(shape=[5,5],dtype=np.uint8)\n",
    "img = cv2.erode(img,kernel=kernel)  # 腐蚀操作\n",
    "\n",
    "# cv2.imshow('aa',img)\n",
    "# cv2.waitKey(0)"
   ]
  },
  {
   "cell_type": "code",
   "execution_count": 6,
   "id": "exposed-holocaust",
   "metadata": {},
   "outputs": [
    {
     "name": "stdout",
     "output_type": "stream",
     "text": [
      "area: 254810.5\n",
      "area: 2165.5\n",
      "area: 4568.5\n",
      "area: 7893.0\n",
      "area: 1048.5\n",
      "时间： 90.61116743087769\n"
     ]
    },
    {
     "data": {
      "text/plain": [
       "True"
      ]
     },
     "execution_count": 6,
     "metadata": {},
     "output_type": "execute_result"
    }
   ],
   "source": [
    "\n",
    "contours, _ = cv2.findContours(img, cv2.RETR_TREE, cv2.CHAIN_APPROX_SIMPLE)\n",
    "\n",
    "n = len(contours)  # 轮廓的个数\n",
    "cv_contours = []\n",
    "for contour in contours:\n",
    "    area = cv2.contourArea(contour)\n",
    "\n",
    "    if area <= 500:# 筛选面积大于500的，小于500的全部变为255，\n",
    "        cv_contours.append(contour)\n",
    "        # 方式一\n",
    "#         x, y, w, h = cv2.boundingRect(contour) # 这个函数可以获得一个图像的最小矩形边框一些信息，参数img是一个二值图像，它可以返回四个参数，左上角坐标，矩形的宽高 (轮廓集合  contour)\n",
    "#         img[y:y + h, x:x + w] = 255\n",
    "        \n",
    "    else:\n",
    "\n",
    "        cv2.drawContours(img_copy, [contour], -1, (0, 0, 255), 0) # 多边形轮廓绘制\n",
    "\n",
    "        print('area:', area)\n",
    "        continue\n",
    "# 方式二\n",
    "# cv2.fillPoly(img, cv_contours, (255, 255, 255)) # 多个多边形填充\n",
    "\n",
    "t2 = time.time()\n",
    "print('时间：',t2-t1)\n",
    "cv2.imwrite('./data/28901647.jpg', img)"
   ]
  },
  {
   "cell_type": "code",
   "execution_count": null,
   "id": "piano-turkey",
   "metadata": {},
   "outputs": [],
   "source": []
  }
 ],
 "metadata": {
  "kernelspec": {
   "display_name": "Python 3",
   "language": "python",
   "name": "python3"
  },
  "language_info": {
   "codemirror_mode": {
    "name": "ipython",
    "version": 3
   },
   "file_extension": ".py",
   "mimetype": "text/x-python",
   "name": "python",
   "nbconvert_exporter": "python",
   "pygments_lexer": "ipython3",
   "version": "3.5.2"
  }
 },
 "nbformat": 4,
 "nbformat_minor": 5
}
